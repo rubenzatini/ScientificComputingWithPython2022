{
 "cells": [
  {
   "cell_type": "markdown",
   "metadata": {},
   "source": [
    "1\\. **Pandas DataFrame**\n",
    "\n",
    "This exercise consists in analyzing a dataset containg timing information from a series of Time-to-Digital-Converters (TDC) implemented in a pair of FPGAs. Each measurement (i.e. each row of the input file) consists of a flag that specifies the type of message ('HEAD', which in this case is always 1), two addresses of the TDC providing the signal ('FPGA' and 'TDC_CHANNEL'), and the timing information ('ORBIT_CNT', 'BX_COUNTER', and 'TDC_MEAS'). Each TDC count corresponds to 25/30 ns, whereas a unit of BX_COUNTER corresponds to 25 ns, and the ORBIT_CNT is increased every `x` BX_COUNTER. This allows to store the time in a similar way to hours, minutes and seconds."
   ]
  },
  {
   "cell_type": "code",
   "execution_count": 16,
   "metadata": {},
   "outputs": [],
   "source": [
    "# If haven't downloaded it yet, please get the data file with wget\n",
    "#!wget https://www.dropbox.com/s/xvjzaxzz3ysphme/data_000637.txt -P ./data/"
   ]
  },
  {
   "cell_type": "markdown",
   "metadata": {},
   "source": [
    "1\\. Create a Pandas DataFrame reading N rows of the `data/data_000637.txt` dataset. Choose N to be smaller than or equal to the maximum number of rows and larger that 10k (check the documentation)."
   ]
  },
  {
   "cell_type": "code",
<<<<<<< Updated upstream
   "execution_count": 12,
=======
   "execution_count": 7,
>>>>>>> Stashed changes
   "metadata": {},
   "outputs": [
    {
     "data": {
      "text/html": [
       "<div>\n",
       "<style scoped>\n",
       "    .dataframe tbody tr th:only-of-type {\n",
       "        vertical-align: middle;\n",
       "    }\n",
       "\n",
       "    .dataframe tbody tr th {\n",
       "        vertical-align: top;\n",
       "    }\n",
       "\n",
       "    .dataframe thead th {\n",
       "        text-align: right;\n",
       "    }\n",
       "</style>\n",
       "<table border=\"1\" class=\"dataframe\">\n",
       "  <thead>\n",
       "    <tr style=\"text-align: right;\">\n",
       "      <th></th>\n",
       "      <th>HEAD</th>\n",
       "      <th>FPGA</th>\n",
       "      <th>TDC_CHANNEL</th>\n",
       "      <th>ORBIT_CNT</th>\n",
       "      <th>BX_COUNTER</th>\n",
       "      <th>TDC_MEAS</th>\n",
       "    </tr>\n",
       "  </thead>\n",
       "  <tbody>\n",
       "    <tr>\n",
       "      <th>0</th>\n",
       "      <td>1</td>\n",
       "      <td>0</td>\n",
       "      <td>123</td>\n",
       "      <td>3869200167</td>\n",
       "      <td>2374</td>\n",
       "      <td>26</td>\n",
       "    </tr>\n",
       "    <tr>\n",
       "      <th>1</th>\n",
       "      <td>1</td>\n",
       "      <td>0</td>\n",
       "      <td>124</td>\n",
       "      <td>3869200167</td>\n",
       "      <td>2374</td>\n",
       "      <td>27</td>\n",
       "    </tr>\n",
       "    <tr>\n",
       "      <th>2</th>\n",
       "      <td>1</td>\n",
       "      <td>0</td>\n",
       "      <td>63</td>\n",
       "      <td>3869200167</td>\n",
       "      <td>2553</td>\n",
       "      <td>28</td>\n",
       "    </tr>\n",
       "    <tr>\n",
       "      <th>3</th>\n",
       "      <td>1</td>\n",
       "      <td>0</td>\n",
       "      <td>64</td>\n",
       "      <td>3869200167</td>\n",
       "      <td>2558</td>\n",
       "      <td>19</td>\n",
       "    </tr>\n",
       "    <tr>\n",
       "      <th>4</th>\n",
       "      <td>1</td>\n",
       "      <td>0</td>\n",
       "      <td>64</td>\n",
       "      <td>3869200167</td>\n",
       "      <td>2760</td>\n",
       "      <td>25</td>\n",
       "    </tr>\n",
       "    <tr>\n",
       "      <th>...</th>\n",
       "      <td>...</td>\n",
       "      <td>...</td>\n",
       "      <td>...</td>\n",
       "      <td>...</td>\n",
       "      <td>...</td>\n",
       "      <td>...</td>\n",
       "    </tr>\n",
       "    <tr>\n",
       "      <th>1310715</th>\n",
       "      <td>1</td>\n",
       "      <td>0</td>\n",
       "      <td>62</td>\n",
       "      <td>3869211171</td>\n",
       "      <td>762</td>\n",
       "      <td>14</td>\n",
       "    </tr>\n",
       "    <tr>\n",
       "      <th>1310716</th>\n",
       "      <td>1</td>\n",
       "      <td>1</td>\n",
       "      <td>4</td>\n",
       "      <td>3869211171</td>\n",
       "      <td>763</td>\n",
       "      <td>11</td>\n",
       "    </tr>\n",
       "    <tr>\n",
       "      <th>1310717</th>\n",
       "      <td>1</td>\n",
       "      <td>0</td>\n",
       "      <td>64</td>\n",
       "      <td>3869211171</td>\n",
       "      <td>764</td>\n",
       "      <td>0</td>\n",
       "    </tr>\n",
       "    <tr>\n",
       "      <th>1310718</th>\n",
       "      <td>1</td>\n",
       "      <td>0</td>\n",
       "      <td>139</td>\n",
       "      <td>3869211171</td>\n",
       "      <td>769</td>\n",
       "      <td>0</td>\n",
       "    </tr>\n",
       "    <tr>\n",
       "      <th>1310719</th>\n",
       "      <td>1</td>\n",
       "      <td>0</td>\n",
       "      <td>61</td>\n",
       "      <td>3869211171</td>\n",
       "      <td>762</td>\n",
       "      <td>18</td>\n",
       "    </tr>\n",
       "  </tbody>\n",
       "</table>\n",
       "<p>1310720 rows × 6 columns</p>\n",
       "</div>"
      ],
      "text/plain": [
       "         HEAD  FPGA  TDC_CHANNEL   ORBIT_CNT  BX_COUNTER  TDC_MEAS\n",
       "0           1     0          123  3869200167        2374        26\n",
       "1           1     0          124  3869200167        2374        27\n",
       "2           1     0           63  3869200167        2553        28\n",
       "3           1     0           64  3869200167        2558        19\n",
       "4           1     0           64  3869200167        2760        25\n",
       "...       ...   ...          ...         ...         ...       ...\n",
       "1310715     1     0           62  3869211171         762        14\n",
       "1310716     1     1            4  3869211171         763        11\n",
       "1310717     1     0           64  3869211171         764         0\n",
       "1310718     1     0          139  3869211171         769         0\n",
       "1310719     1     0           61  3869211171         762        18\n",
       "\n",
       "[1310720 rows x 6 columns]"
      ]
     },
<<<<<<< Updated upstream
     "execution_count": 12,
=======
     "execution_count": 7,
>>>>>>> Stashed changes
     "metadata": {},
     "output_type": "execute_result"
    }
   ],
   "source": [
<<<<<<< Updated upstream
    "\n",
=======
>>>>>>> Stashed changes
    "import pandas as pd\n",
    "import numpy as np\n",
    "\n",
    "file_name = \"./data/data_000637.txt\"\n",
    "data = pd.read_csv(file_name\n",
    "                   #, nrows=1000000\n",
    "                  )\n",
    "data"
   ]
  },
  {
   "cell_type": "markdown",
   "metadata": {},
   "source": [
    "2\\. Estimate the number of BX in a ORBIT (the value `x`).\n",
    "\n",
    "*Hint*: check when the BX counter reaches the maximum value before being reset to 0."
   ]
  },
  {
   "cell_type": "code",
<<<<<<< Updated upstream
   "execution_count": 2,
=======
   "execution_count": 8,
>>>>>>> Stashed changes
   "metadata": {},
   "outputs": [
    {
     "name": "stdout",
     "output_type": "stream",
     "text": [
      "3563\n"
     ]
    }
   ],
   "source": [
<<<<<<< Updated upstream
    "max=np.max(data[\"BX_COUNTER\"])\n",
    "print(max)"
=======
    "max_BX=np.max(data[\"BX_COUNTER\"])\n",
    "print(max_BX)"
>>>>>>> Stashed changes
   ]
  },
  {
   "cell_type": "markdown",
   "metadata": {},
   "source": [
    "3\\. Create a new column with the absolute time in ns (as a combination of the other three columns with timing information) since the beginning of the data acquisition, and convert the new column to a Time Series."
   ]
  },
  {
   "cell_type": "code",
<<<<<<< Updated upstream
   "execution_count": 3,
   "metadata": {},
   "outputs": [
    {
=======
   "execution_count": 13,
   "metadata": {},
   "outputs": [
    {
     "name": "stdout",
     "output_type": "stream",
     "text": [
      "<class 'pandas.core.series.Series'>\n"
     ]
    },
    {
>>>>>>> Stashed changes
     "data": {
      "text/html": [
       "<div>\n",
       "<style scoped>\n",
       "    .dataframe tbody tr th:only-of-type {\n",
       "        vertical-align: middle;\n",
       "    }\n",
       "\n",
       "    .dataframe tbody tr th {\n",
       "        vertical-align: top;\n",
       "    }\n",
       "\n",
       "    .dataframe thead th {\n",
       "        text-align: right;\n",
       "    }\n",
       "</style>\n",
       "<table border=\"1\" class=\"dataframe\">\n",
       "  <thead>\n",
       "    <tr style=\"text-align: right;\">\n",
       "      <th></th>\n",
       "      <th>HEAD</th>\n",
       "      <th>FPGA</th>\n",
       "      <th>TDC_CHANNEL</th>\n",
       "      <th>ORBIT_CNT</th>\n",
       "      <th>BX_COUNTER</th>\n",
       "      <th>TDC_MEAS</th>\n",
<<<<<<< Updated upstream
       "      <th>TIME</th>\n",
=======
       "      <th>ABS_TIME</th>\n",
>>>>>>> Stashed changes
       "    </tr>\n",
       "  </thead>\n",
       "  <tbody>\n",
       "    <tr>\n",
       "      <th>0</th>\n",
       "      <td>1</td>\n",
       "      <td>0</td>\n",
       "      <td>123</td>\n",
       "      <td>3869200167</td>\n",
       "      <td>2374</td>\n",
       "      <td>26</td>\n",
<<<<<<< Updated upstream
       "      <td>3.446490e+14</td>\n",
=======
       "      <td>0.000000e+00</td>\n",
>>>>>>> Stashed changes
       "    </tr>\n",
       "    <tr>\n",
       "      <th>1</th>\n",
       "      <td>1</td>\n",
       "      <td>0</td>\n",
       "      <td>124</td>\n",
       "      <td>3869200167</td>\n",
       "      <td>2374</td>\n",
       "      <td>27</td>\n",
<<<<<<< Updated upstream
       "      <td>3.446490e+14</td>\n",
=======
       "      <td>8.125000e-01</td>\n",
>>>>>>> Stashed changes
       "    </tr>\n",
       "    <tr>\n",
       "      <th>2</th>\n",
       "      <td>1</td>\n",
       "      <td>0</td>\n",
       "      <td>63</td>\n",
       "      <td>3869200167</td>\n",
       "      <td>2553</td>\n",
       "      <td>28</td>\n",
<<<<<<< Updated upstream
       "      <td>3.446490e+14</td>\n",
=======
       "      <td>4.476625e+03</td>\n",
>>>>>>> Stashed changes
       "    </tr>\n",
       "    <tr>\n",
       "      <th>3</th>\n",
       "      <td>1</td>\n",
       "      <td>0</td>\n",
       "      <td>64</td>\n",
       "      <td>3869200167</td>\n",
       "      <td>2558</td>\n",
       "      <td>19</td>\n",
<<<<<<< Updated upstream
       "      <td>3.446490e+14</td>\n",
=======
       "      <td>4.594125e+03</td>\n",
>>>>>>> Stashed changes
       "    </tr>\n",
       "    <tr>\n",
       "      <th>4</th>\n",
       "      <td>1</td>\n",
       "      <td>0</td>\n",
       "      <td>64</td>\n",
       "      <td>3869200167</td>\n",
       "      <td>2760</td>\n",
       "      <td>25</td>\n",
<<<<<<< Updated upstream
       "      <td>3.446490e+14</td>\n",
=======
       "      <td>9.649125e+03</td>\n",
>>>>>>> Stashed changes
       "    </tr>\n",
       "    <tr>\n",
       "      <th>...</th>\n",
       "      <td>...</td>\n",
       "      <td>...</td>\n",
       "      <td>...</td>\n",
       "      <td>...</td>\n",
       "      <td>...</td>\n",
       "      <td>...</td>\n",
       "      <td>...</td>\n",
       "    </tr>\n",
       "    <tr>\n",
       "      <th>1310715</th>\n",
       "      <td>1</td>\n",
       "      <td>0</td>\n",
       "      <td>62</td>\n",
       "      <td>3869211171</td>\n",
       "      <td>762</td>\n",
       "      <td>14</td>\n",
<<<<<<< Updated upstream
       "      <td>3.446500e+14</td>\n",
=======
       "      <td>9.801410e+08</td>\n",
>>>>>>> Stashed changes
       "    </tr>\n",
       "    <tr>\n",
       "      <th>1310716</th>\n",
       "      <td>1</td>\n",
       "      <td>1</td>\n",
       "      <td>4</td>\n",
       "      <td>3869211171</td>\n",
       "      <td>763</td>\n",
       "      <td>11</td>\n",
<<<<<<< Updated upstream
       "      <td>3.446500e+14</td>\n",
=======
       "      <td>9.801410e+08</td>\n",
>>>>>>> Stashed changes
       "    </tr>\n",
       "    <tr>\n",
       "      <th>1310717</th>\n",
       "      <td>1</td>\n",
       "      <td>0</td>\n",
       "      <td>64</td>\n",
       "      <td>3869211171</td>\n",
       "      <td>764</td>\n",
       "      <td>0</td>\n",
<<<<<<< Updated upstream
       "      <td>3.446500e+14</td>\n",
=======
       "      <td>9.801410e+08</td>\n",
>>>>>>> Stashed changes
       "    </tr>\n",
       "    <tr>\n",
       "      <th>1310718</th>\n",
       "      <td>1</td>\n",
       "      <td>0</td>\n",
       "      <td>139</td>\n",
       "      <td>3869211171</td>\n",
       "      <td>769</td>\n",
       "      <td>0</td>\n",
<<<<<<< Updated upstream
       "      <td>3.446500e+14</td>\n",
=======
       "      <td>9.801412e+08</td>\n",
>>>>>>> Stashed changes
       "    </tr>\n",
       "    <tr>\n",
       "      <th>1310719</th>\n",
       "      <td>1</td>\n",
       "      <td>0</td>\n",
       "      <td>61</td>\n",
       "      <td>3869211171</td>\n",
       "      <td>762</td>\n",
       "      <td>18</td>\n",
<<<<<<< Updated upstream
       "      <td>3.446500e+14</td>\n",
=======
       "      <td>9.801410e+08</td>\n",
>>>>>>> Stashed changes
       "    </tr>\n",
       "  </tbody>\n",
       "</table>\n",
       "<p>1310720 rows × 7 columns</p>\n",
       "</div>"
      ],
      "text/plain": [
       "         HEAD  FPGA  TDC_CHANNEL   ORBIT_CNT  BX_COUNTER  TDC_MEAS  \\\n",
       "0           1     0          123  3869200167        2374        26   \n",
       "1           1     0          124  3869200167        2374        27   \n",
       "2           1     0           63  3869200167        2553        28   \n",
       "3           1     0           64  3869200167        2558        19   \n",
       "4           1     0           64  3869200167        2760        25   \n",
       "...       ...   ...          ...         ...         ...       ...   \n",
       "1310715     1     0           62  3869211171         762        14   \n",
       "1310716     1     1            4  3869211171         763        11   \n",
       "1310717     1     0           64  3869211171         764         0   \n",
       "1310718     1     0          139  3869211171         769         0   \n",
       "1310719     1     0           61  3869211171         762        18   \n",
       "\n",
<<<<<<< Updated upstream
       "                 TIME  \n",
       "0        3.446490e+14  \n",
       "1        3.446490e+14  \n",
       "2        3.446490e+14  \n",
       "3        3.446490e+14  \n",
       "4        3.446490e+14  \n",
       "...               ...  \n",
       "1310715  3.446500e+14  \n",
       "1310716  3.446500e+14  \n",
       "1310717  3.446500e+14  \n",
       "1310718  3.446500e+14  \n",
       "1310719  3.446500e+14  \n",
=======
       "             ABS_TIME  \n",
       "0        0.000000e+00  \n",
       "1        8.125000e-01  \n",
       "2        4.476625e+03  \n",
       "3        4.594125e+03  \n",
       "4        9.649125e+03  \n",
       "...               ...  \n",
       "1310715  9.801410e+08  \n",
       "1310716  9.801410e+08  \n",
       "1310717  9.801410e+08  \n",
       "1310718  9.801412e+08  \n",
       "1310719  9.801410e+08  \n",
>>>>>>> Stashed changes
       "\n",
       "[1310720 rows x 7 columns]"
      ]
     },
<<<<<<< Updated upstream
     "execution_count": 3,
=======
     "execution_count": 13,
>>>>>>> Stashed changes
     "metadata": {},
     "output_type": "execute_result"
    }
   ],
   "source": [
<<<<<<< Updated upstream
    "data[\"TIME\"]=data[\"TDC_MEAS\"]*25/30+25*data[\"BX_COUNTER\"]+25*max*data[\"ORBIT_CNT\"]\n",
    "#data[\"TIME\"]=pd.to_datetime(data[\"TIME\"], unit=\"ns\")\n",
=======
    "data[\"ABS_TIME\"]=data[\"TDC_MEAS\"]*25/30+25*data[\"BX_COUNTER\"]+25*max_BX*data[\"ORBIT_CNT\"]\n",
    "#data[\"ABS_TIME\"]=pd.to_datetime(data[\"ABS_TIME\"], unit=\"ns\")\n",
    "data['ABS_TIME']=data['ABS_TIME']-data.iloc[0,6]\n",
    "print(type(data['ABS_TIME']))\n",
>>>>>>> Stashed changes
    "data"
   ]
  },
  {
   "cell_type": "markdown",
   "metadata": {},
   "source": [
    "4\\. Find out the duration of the data taking in hours, minutes and seconds, by using the features of the Time Series. Perform this check reading the whole dataset."
   ]
  },
  {
   "cell_type": "code",
<<<<<<< Updated upstream
   "execution_count": 4,
=======
   "execution_count": 24,
>>>>>>> Stashed changes
   "metadata": {},
   "outputs": [
    {
     "name": "stdout",
     "output_type": "stream",
     "text": [
<<<<<<< Updated upstream
      "0 days 00:00:00.980140993\n"
=======
      "1900-01-01 00:00:00.980140993\n"
>>>>>>> Stashed changes
     ]
    }
   ],
   "source": [
<<<<<<< Updated upstream
    "elapsed_time=data.iloc[1310719,6]-data.iloc[0,6]\n",
    "print(pd.to_timedelta(elapsed_time))\n",
=======
    "data['ABS_TIME'].sort_values(ascending=True)\n",
    "elapsed_time=pd.to_datetime(data.iloc[-1,6], format='%f')\n",
    "\n",
    "print(elapsed_time)\n",
    "\n",
    "#elapsed_time=data.iloc[1310719,6]-data.iloc[0,6]\n",
    "#print(pd.to_timedelta(elapsed_time))\n",
>>>>>>> Stashed changes
    "\n",
    "#data[\"OK\"]=data[\"TIME\"]-data.iloc[0,6]\n",
    "#data[\"OK\"]=pd.to_timedelta(data[\"OK\"])\n",
    "#data"
   ]
  },
  {
   "cell_type": "markdown",
   "metadata": {},
   "source": [
    "5\\. Use the `.groupby()` method to find out the noisy channels, i.e. the TDC channels with most counts (print to screen the top 3 and the corresponding counts)"
   ]
  },
  {
   "cell_type": "code",
<<<<<<< Updated upstream
   "execution_count": 5,
   "metadata": {},
   "outputs": [
    {
     "name": "stdout",
     "output_type": "stream",
     "text": [
      "139\n"
     ]
    },
    {
     "data": {
      "text/html": [
       "<div>\n",
       "<style scoped>\n",
       "    .dataframe tbody tr th:only-of-type {\n",
       "        vertical-align: middle;\n",
       "    }\n",
       "\n",
       "    .dataframe tbody tr th {\n",
       "        vertical-align: top;\n",
       "    }\n",
       "\n",
       "    .dataframe thead th {\n",
       "        text-align: right;\n",
       "    }\n",
       "</style>\n",
       "<table border=\"1\" class=\"dataframe\">\n",
       "  <thead>\n",
       "    <tr style=\"text-align: right;\">\n",
       "      <th></th>\n",
       "      <th>HEAD</th>\n",
       "      <th>FPGA</th>\n",
       "      <th>TDC_CHANNEL</th>\n",
       "      <th>ORBIT_CNT</th>\n",
       "      <th>BX_COUNTER</th>\n",
       "      <th>TDC_MEAS</th>\n",
       "      <th>TIME</th>\n",
       "    </tr>\n",
       "  </thead>\n",
       "  <tbody>\n",
       "    <tr>\n",
       "      <th>7</th>\n",
       "      <td>1</td>\n",
       "      <td>0</td>\n",
       "      <td>139</td>\n",
       "      <td>3869200167</td>\n",
       "      <td>2776</td>\n",
       "      <td>0</td>\n",
       "      <td>3.446490e+14</td>\n",
       "    </tr>\n",
       "    <tr>\n",
       "      <th>15</th>\n",
       "      <td>1</td>\n",
       "      <td>1</td>\n",
       "      <td>139</td>\n",
       "      <td>3869200167</td>\n",
       "      <td>2797</td>\n",
       "      <td>0</td>\n",
       "      <td>3.446490e+14</td>\n",
       "    </tr>\n",
       "    <tr>\n",
       "      <th>30</th>\n",
       "      <td>1</td>\n",
       "      <td>0</td>\n",
       "      <td>139</td>\n",
       "      <td>3869200167</td>\n",
       "      <td>3085</td>\n",
       "      <td>0</td>\n",
       "      <td>3.446490e+14</td>\n",
       "    </tr>\n",
       "  </tbody>\n",
       "</table>\n",
       "</div>"
      ],
      "text/plain": [
       "    HEAD  FPGA  TDC_CHANNEL   ORBIT_CNT  BX_COUNTER  TDC_MEAS          TIME\n",
       "7      1     0          139  3869200167        2776         0  3.446490e+14\n",
       "15     1     1          139  3869200167        2797         0  3.446490e+14\n",
       "30     1     0          139  3869200167        3085         0  3.446490e+14"
      ]
     },
     "execution_count": 5,
=======
   "execution_count": 31,
   "metadata": {},
   "outputs": [
    {
     "data": {
      "text/plain": [
       "TDC_CHANNEL\n",
       "139    108059\n",
       "64      66020\n",
       "63      64642\n",
       "dtype: int64"
      ]
     },
     "execution_count": 31,
>>>>>>> Stashed changes
     "metadata": {},
     "output_type": "execute_result"
    }
   ],
   "source": [
<<<<<<< Updated upstream
    "\n",
    "max_TDC=np.max(data[\"TDC_CHANNEL\"])\n",
    "print(max_TDC)\n",
    "data.groupby(\"TDC_CHANNEL\").get_group(max_TDC).head(3)\n",
=======
    "#HOW MANY ROWS A CERTAIN TDC_CHANNEL VALUE HAS\n",
    "TDC_counts=data.groupby([\"TDC_CHANNEL\"]).size()\n",
    "\n",
    "#RIORGANIZZO IN ORDINE DECRRESCENTE E GUARDO I PRIMI TRE\n",
    "TDC_counts.sort_values(ascending=False).head(3)\n",
>>>>>>> Stashed changes
    "\n",
    "\n",
    "\n",
    "\n"
   ]
  },
  {
   "cell_type": "markdown",
   "metadata": {},
   "source": [
    "6\\. Count the number of non-empty orbits (i.e. the number of orbits with at least one hit)."
   ]
  },
  {
   "cell_type": "code",
<<<<<<< Updated upstream
   "execution_count": 16,
   "metadata": {},
   "outputs": [
    {
     "data": {
      "text/plain": [
       "HEAD           1310720\n",
       "FPGA           1310720\n",
       "TDC_CHANNEL    1310720\n",
       "ORBIT_CNT      1310677\n",
       "BX_COUNTER     1310720\n",
       "TDC_MEAS       1310720\n",
       "dtype: int64"
      ]
     },
     "execution_count": 16,
     "metadata": {},
     "output_type": "execute_result"
    }
   ],
   "source": [
    "df=data[data > 3869200167]\n",
    "dt=data.copy()\n",
    "dt[\"ORBIT_CNT\"] = df[\"ORBIT_CNT\"]\n",
    "dt.count()"
=======
   "execution_count": 26,
   "metadata": {},
   "outputs": [
    {
     "name": "stdout",
     "output_type": "stream",
     "text": [
      "11001\n",
      "11004\n"
     ]
    }
   ],
   "source": [
    "#GROUPING BY 'ORBIT_CNT' AND DISPLAYING HOW MANY ROWS FOR ORBIT\n",
    "ORBIT_counts=data.groupby([\"ORBIT_CNT\"]).size()\n",
    "ORBIT_counts.sort_values(ascending=True)\n",
    "\n",
    "\n",
    "#the length of the vector is the number of non empty orbits\n",
    "#if there's no measure in an orbit, that orbit is will not appear in \n",
    "#the dataset\n",
    "print(len(ORBIT_counts)) \n",
    "print(3869211171-3869200167)"
>>>>>>> Stashed changes
   ]
  },
  {
   "cell_type": "markdown",
   "metadata": {},
   "source": [
    "7\\. Count the number of unique orbits with at least one measurement from TDC_CHANNEL=139."
   ]
  },
  {
   "cell_type": "code",
<<<<<<< Updated upstream
   "execution_count": 22,
   "metadata": {},
   "outputs": [
    {
     "data": {
      "text/plain": [
       "10976"
      ]
     },
     "execution_count": 22,
     "metadata": {},
     "output_type": "execute_result"
    }
   ],
   "source": [
    "mambo=data.groupby(\"TDC_CHANNEL\").get_group(max_TDC)\n",
    "len(mambo.groupby(\"ORBIT_CNT\").groups)"
=======
   "execution_count": 27,
   "metadata": {},
   "outputs": [
    {
     "name": "stdout",
     "output_type": "stream",
     "text": [
      "10976\n"
     ]
    }
   ],
   "source": [
    "#selecting the group with TDC_CHANNEL = 139\n",
    "max_TDC_data=data.groupby(\"TDC_CHANNEL\").get_group(139)\n",
    "\n",
    "#grouping by ORBIT_CNT and seeing how many rows for each Orbit\n",
    "#remembering we selected data with TDC_CHANNEL = 139\n",
    "max_TDC_data.groupby([\"ORBIT_CNT\"]).size()\n",
    "print(len(max_TDC_data.groupby([\"ORBIT_CNT\"]).size()))\n"
>>>>>>> Stashed changes
   ]
  },
  {
   "cell_type": "markdown",
   "metadata": {},
   "source": [
    "8\\. Create two Series (one for each FPGA) that have the TDC channel as index, and the number of counts for the corresponding TDC channel as values."
   ]
  },
  {
   "cell_type": "code",
<<<<<<< Updated upstream
   "execution_count": 23,
   "metadata": {},
   "outputs": [
    {
     "name": "stdout",
     "output_type": "stream",
     "text": [
      "11004\n"
     ]
    }
   ],
   "source": []
=======
   "execution_count": 28,
   "metadata": {},
   "outputs": [
    {
     "data": {
      "text/plain": [
       "TDC_CHANNEL\n",
       "1       1215\n",
       "2       1602\n",
       "3       1493\n",
       "4       2352\n",
       "5       1432\n",
       "       ...  \n",
       "129        2\n",
       "130       33\n",
       "137       32\n",
       "138       34\n",
       "139    75617\n",
       "Length: 124, dtype: int64"
      ]
     },
     "execution_count": 28,
     "metadata": {},
     "output_type": "execute_result"
    }
   ],
   "source": [
    "first_data = data.groupby(['FPGA']).get_group(0)\n",
    "second_data = data.groupby(['FPGA']).get_group(1)\n",
    "\n",
    "#first_indexing = list(zip(first_data['TDC_CHANNEL'],first_data['']))\n",
    "#print(first_indexing)\n",
    "\n",
    "first_series = first_data.groupby(['TDC_CHANNEL']).size()\n",
    "second_series = second_data.groupby(['TDC_CHANNEL']).size()\n",
    "\n",
    "first_series"
   ]
>>>>>>> Stashed changes
  },
  {
   "cell_type": "markdown",
   "metadata": {},
   "source": [
    "9\\. **Optional:** Create two histograms (one for each FPGA) that show the number of counts for each TDC channel."
   ]
  },
  {
   "cell_type": "code",
   "execution_count": 52,
   "metadata": {},
   "outputs": [
    {
     "data": {
      "text/plain": [
       "<BarContainer object of 132 artists>"
      ]
     },
     "execution_count": 52,
     "metadata": {},
     "output_type": "execute_result"
    },
    {
     "data": {
      "image/png": "iVBORw0KGgoAAAANSUhEUgAAAjoAAAGdCAYAAAAbudkLAAAAOXRFWHRTb2Z0d2FyZQBNYXRwbG90bGliIHZlcnNpb24zLjUuMiwgaHR0cHM6Ly9tYXRwbG90bGliLm9yZy8qNh9FAAAACXBIWXMAAA9hAAAPYQGoP6dpAABCsElEQVR4nO3df1RU953/8dcUZEQWpiAL45zgj20JX11ImiX9ItpdbVTQI9Csu+u2dOfEsy6akMiywsk31vP9hu5ZIRt/7kLXWr8etaKl53ssaSvtFNwmdPkqathwKurXTTcmYpYRV8dBCRkoud8/crzrgBgG5df1+TjnnuPcz3vmfu6F+fjic+fesRmGYQgAAMCCPjfeHQAAABgtBB0AAGBZBB0AAGBZBB0AAGBZBB0AAGBZBB0AAGBZBB0AAGBZBB0AAGBZ4ePdgfH0ySef6D/+4z8UHR0tm8023t0BHkmGYejWrVtyuVz63Ocmx99ejB3A+Apl3Hikg85//Md/KCkpaby7AUBSe3u7HnvssfHuxrAwdgATw3DGjUc66ERHR0v69EDFxMSMc2+AR1NXV5eSkpLM9+NkwNgBjK9Qxo1HOujcmXKOiYlhsALG2WQ6BcTYAUwMwxk3JscJcQAAgBEg6AAAAMsi6AAAAMsi6AAAAMsi6AAAAMsi6AAAAMsi6AAAAMsi6AAAAMsi6AAAAMsi6AAAAMsi6AAAAMsi6AAAAMsi6AAAAMsi6AAAAMsi6AB46Ga/UjfeXZhQZr9SxzEBxglBBwAAWBZBBwAAWBZBBwAATAijcYqXoAMAACyLoAMAACyLoAMAACyLoAMAACyLoAMAACyLoAMAACyLoAMAACyLoAMAACyLoAMAACyLoAMAACyLoAMAACyLoAMAACyLoAMAACyLoAMAACyLoAMAACyLoAMAACyLoAMAACyLoAMAACwrpKAze/Zs2Wy2QcuLL74oSTIMQ2VlZXK5XIqMjNTixYt17ty5oNcIBALasGGD4uPjFRUVpby8PF25ciWoxufzye12y+FwyOFwyO126+bNm0E1ly9fVm5urqKiohQfH6+ioiL19vaO4BAAAACrCinonDlzRh0dHebS0NAgSfqzP/szSdLrr7+uHTt2qKqqSmfOnJHT6dSyZct069Yt8zWKi4tVW1urmpoaNTU16fbt28rJyVF/f79Zk5+fr9bWVnk8Hnk8HrW2tsrtdpvt/f39Wrlypbq7u9XU1KSamhodPXpUJSUlD3QwAACAxRgP4K//+q+NL3zhC8Ynn3xifPLJJ4bT6TRee+01s/3jjz82HA6H8d3vftcwDMO4efOmMWXKFKOmpsas+fDDD43Pfe5zhsfjMQzDMM6fP29IMpqbm82akydPGpKM//f//p9hGIbxs5/9zPjc5z5nfPjhh2bND37wA8Nutxt+v3/Y/ff7/YakkJ4D4LPN+h/Hhl07Gd+HofZ51v84FtIxAR5Vw32fhPIeHPFndHp7e1VdXa2//Mu/lM1m06VLl+T1epWVlWXW2O12LVq0SCdOnJAktbS0qK+vL6jG5XIpNTXVrDl58qQcDocyMjLMmvnz58vhcATVpKamyuVymTXZ2dkKBAJqaWkZss+BQEBdXV1BC4DRt3v3bj3xxBOKiYlRTEyMMjMz9fOf/zyopqKigtPeAB66EQedN954Qzdv3tSaNWskSV6vV5KUmJgYVJeYmGi2eb1eRUREKDY29r41CQkJg7aXkJAQVDNwO7GxsYqIiDBr7qWiosIcAB0Oh5KSkkLYYwAj9dhjj+m1117T22+/rbffflvPPPOMvva1rwWFme985zuc9gbw0IWP9In79u3TihUrgmZVJMlmswU9Ngxj0LqBBtbcq34kNQNt2rRJGzduNB93dXURdoAxkJubG/R4y5Yt2r17t5qbm/XYY49JkkpKSrRq1SpJ0sGDB5WYmKgjR45o/fr18vv92rdvnw4dOqSlS5dKkqqrq5WUlKTjx48rOztbFy5ckMfjUXNzszkjvHfvXmVmZurixYtKSUlRfX29zp8/r/b2dnPs2r59u9asWaMtW7YoJiZmrA4JgDEyohmdDz74QMePH9df/dVfmeucTqckDZpR6ezsNGdfnE6nent75fP57ltz9erVQdu8du1aUM3A7fh8PvX19Q2a6bmb3W43p87vLADGVn9/v2pqatTd3a3MzEy9//77kqRnnnnGrOG0N4CHZURBZ//+/UpISNDKlSvNdXPmzJHT6TSvxJI+/RxPY2OjFixYIElKT0/XlClTgmo6OjrU1tZm1mRmZsrv9+v06dNmzalTp+T3+4Nq2tra1NHRYdbU19fLbrcrPT19JLsEYJSdPXtWv/M7vyO73a7nn39etbW1mjdvnjo7OyVp0ClrTnsDeBhCPnX1ySefaP/+/XruuecUHv5fT7fZbCouLlZ5ebmSk5OVnJys8vJyTZs2Tfn5+ZIkh8OhtWvXqqSkRNOnT1dcXJxKS0uVlpZmTkfPnTtXy5cvV0FBgfbs2SNJWrdunXJycpSSkiJJysrK0rx58+R2u7V161bduHFDpaWlKigoYJYGmKBSUlLU2tqqmzdv6ujRo3ruuefU2NhotnPaG8BoCDnoHD9+XJcvX9Zf/uVfDmp7+eWX1dPTo8LCQvl8PmVkZKi+vl7R0dFmzc6dOxUeHq7Vq1erp6dHS5Ys0YEDBxQWFmbWHD58WEVFReY0dV5enqqqqsz2sLAw1dXVqbCwUAsXLlRkZKTy8/O1bdu2UHcHwBiJiIjQF7/4RUnS008/rTNnzugf/uEfVFhYKEm6evWqHn/8cbN+qNPed8/qdHZ2mjO9wz3tferUqaD24Z72ttvtI9ltAOMs5FNXWVlZMgwjaEC6w2azqaysTB0dHfr444/V2Nio1NTUoJqpU6eqsrJS169f10cffaSf/vSng/4yiouLU3V1tXkuvLq6Wp///OeDambOnKljx47po48+0vXr11VZWclABEwihmEoEAho9uzZkqQ333zTbOO0N4CHZcRXXQHAcH3rW9/SihUrlJSUpFu3bqmmpkZvvfWWPB6Pecpox44dSktL47Q3gIeKoANg1F29elVut1sdHR1yOBx64okn5PF4tGzZMvMKphdeeIHT3gAeOpthGMZ4d2K8dHV1yeFwyO/389cc8BDNfqVO77+28rMLNTnfh6H2efYrdZI07GMCPKqGO3aE8h4c8Z2RAQAAJjqCDgAAsCyCDgAAsCyCDgAAsCyCDgAAsCyCDgAAsCyCDgAAsCyCDgAAsCyCDgAAsCyCDgAAsCyCDgCMojtf/wBgfBB0AACAZRF0AACAZRF0AACAZRF0AACAZRF0AACAZRF0MGHNfqWOK1YAAA+EoAMAACyLoAMAACyLoAMAACyLoIMJic/mAAAeBoIOAACwLIIOAACwLIIOAACwLIIOAACwLIIOAACwLIIOAACwLIIOAACwLIIOAACwLIIOAACwLIIOAACwLIIOAACwLIIOAIyh2a/U8V1uwBgKOeh8+OGH+ou/+AtNnz5d06ZN05e+9CW1tLSY7YZhqKysTC6XS5GRkVq8eLHOnTsX9BqBQEAbNmxQfHy8oqKilJeXpytXrgTV+Hw+ud1uORwOORwOud1u3bx5M6jm8uXLys3NVVRUlOLj41VUVKTe3t5QdwkAAFhUSEHH5/Np4cKFmjJlin7+85/r/Pnz2r59uz7/+c+bNa+//rp27NihqqoqnTlzRk6nU8uWLdOtW7fMmuLiYtXW1qqmpkZNTU26ffu2cnJy1N/fb9bk5+ertbVVHo9HHo9Hra2tcrvdZnt/f79Wrlyp7u5uNTU1qaamRkePHlVJSckDHA4AAGAl4aEU//3f/72SkpK0f/9+c93s2bPNfxuGoV27dmnz5s1atWqVJOngwYNKTEzUkSNHtH79evn9fu3bt0+HDh3S0qVLJUnV1dVKSkrS8ePHlZ2drQsXLsjj8ai5uVkZGRmSpL179yozM1MXL15USkqK6uvrdf78ebW3t8vlckmStm/frjVr1mjLli2KiYl5oAMDAAAmv5BmdH7yk5/o6aef1p/92Z8pISFBTz31lPbu3Wu2X7p0SV6vV1lZWeY6u92uRYsW6cSJE5KklpYW9fX1BdW4XC6lpqaaNSdPnpTD4TBDjiTNnz9fDocjqCY1NdUMOZKUnZ2tQCAQdCrtboFAQF1dXUELAACwrpCCznvvvafdu3crOTlZv/jFL/T888+rqKhI3//+9yVJXq9XkpSYmBj0vMTERLPN6/UqIiJCsbGx961JSEgYtP2EhISgmoHbiY2NVUREhFkzUEVFhfmZH4fDoaSkpFB2HwAATDIhBZ1PPvlEf/AHf6Dy8nI99dRTWr9+vQoKCrR79+6gOpvNFvTYMIxB6wYaWHOv+pHU3G3Tpk3y+/3m0t7eft8+AQCAyS2koDNjxgzNmzcvaN3cuXN1+fJlSZLT6ZSkQTMqnZ2d5uyL0+lUb2+vfD7ffWuuXr06aPvXrl0Lqhm4HZ/Pp76+vkEzPXfY7XbFxMQELQAAwLpCCjoLFy7UxYsXg9b927/9m2bNmiVJmjNnjpxOpxoaGsz23t5eNTY2asGCBZKk9PR0TZkyJaimo6NDbW1tZk1mZqb8fr9Onz5t1pw6dUp+vz+opq2tTR0dHWZNfX297Ha70tPTQ9ktAABgUSFddfU3f/M3WrBggcrLy7V69WqdPn1a3/ve9/S9731P0qenkoqLi1VeXq7k5GQlJyervLxc06ZNU35+viTJ4XBo7dq1Kikp0fTp0xUXF6fS0lKlpaWZV2HNnTtXy5cvV0FBgfbs2SNJWrdunXJycpSSkiJJysrK0rx58+R2u7V161bduHFDpaWlKigoYKYGAABICjHofPnLX1Ztba02bdqkv/3bv9WcOXO0a9cuffOb3zRrXn75ZfX09KiwsFA+n08ZGRmqr69XdHS0WbNz506Fh4dr9erV6unp0ZIlS3TgwAGFhYWZNYcPH1ZRUZF5dVZeXp6qqqrM9rCwMNXV1amwsFALFy5UZGSk8vPztW3bthEfDAAAYC0h3xk5JydHZ8+e1ccff6wLFy6ooKAgqN1ms6msrEwdHR36+OOP1djYqNTU1KCaqVOnqrKyUtevX9dHH32kn/70p4OugIqLi1N1dbV5GXh1dXXQjQklaebMmTp27Jg++ugjXb9+XZWVlbLb7aHuEoBRVlFRoS9/+cuKjo5WQkKCnn322UGnwV944QXZbLagZf78+UE13FUdQKj4risAo66xsVEvvviimpub1dDQoN/+9rfKyspSd3d3UN3y5cvV0dFhLj/72c+C2rmrOoBQhXTqCgBGwuPxBD3ev3+/EhIS1NLSoi996Uvmervdbl69ORB3VQcwEszoABhzfr9f0qenqO/21ltvKSEhQY8//rgKCgrU2dlptnFXdQAjQdABMKYMw9DGjRv1la98Jejze0uXLtXhw4f1y1/+Utu3b9eZM2f0zDPPKBAISOKu6gBGhlNXAMbUSy+9pF//+tdqamoKWv8nf/In5mmj1NRUPf3005o1a5bq6urMLwm+l7G6q/rGjRvNx11dXYQdYJJgRgfAmNmwYYN+8pOf6M0339Rjjz1239oZM2Zo1qxZevfddyVxV3UAI0PQATDqDMPQSy+9pB/96Ef65S9/qTlz5nzmc65fv6729nbNmDFDEndVBzAynLoCMOpefPFFHTlyRD/+8Y8VHR1tzqg4HA6zZvPmzcrPz9eMGTP0/vvv61vf+pbi4+P1x3/8x2Ytd1UHECqCDoBRt3v3bknS4sWLg9bv37/f/PzN+fPn9bWvfU03b97UjBkz9NWvflU//OEPuas6gAdC0AEw6gzDGLLtzqXatbW1nzmjcueu6pWVlUPW3Lmr+v3cuas6AOvjMzoAAMCyCDoAAMCyCDoAAMCyCDoAAMCyCDoAAMCyCDoAAMCyCDoAAMCyCDoAAMCyCDoAAMCyCDoAAMCyCDoAAMCyCDoAAMCyCDoAAMCyCDoAAMCyCDoAAMCyCDoAAMCyCDoAAMCyCDoAAMCyCDoAAMCyCDoAAMCyCDoAAMCyCDoAAMCyCDoAAMCyCDoAAMCyCDoAAMCyQgo6ZWVlstlsQYvT6TTbDcNQWVmZXC6XIiMjtXjxYp07dy7oNQKBgDZs2KD4+HhFRUUpLy9PV65cCarx+Xxyu91yOBxyOBxyu926efNmUM3ly5eVm5urqKgoxcfHq6ioSL29vSHuPgAAsLKQZ3R+//d/Xx0dHeZy9uxZs+3111/Xjh07VFVVpTNnzsjpdGrZsmW6deuWWVNcXKza2lrV1NSoqalJt2/fVk5Ojvr7+82a/Px8tba2yuPxyOPxqLW1VW6322zv7+/XypUr1d3draamJtXU1Ojo0aMqKSkZ6XEAgFE3+5W68e4C8MgJD/kJ4eFBszh3GIahXbt2afPmzVq1apUk6eDBg0pMTNSRI0e0fv16+f1+7du3T4cOHdLSpUslSdXV1UpKStLx48eVnZ2tCxcuyOPxqLm5WRkZGZKkvXv3KjMzUxcvXlRKSorq6+t1/vx5tbe3y+VySZK2b9+uNWvWaMuWLYqJiRnxAQEAANYR8ozOu+++K5fLpTlz5ujrX/+63nvvPUnSpUuX5PV6lZWVZdba7XYtWrRIJ06ckCS1tLSor68vqMblcik1NdWsOXnypBwOhxlyJGn+/PlyOBxBNampqWbIkaTs7GwFAgG1tLSEuksAAMCiQprRycjI0Pe//309/vjjunr1qv7u7/5OCxYs0Llz5+T1eiVJiYmJQc9JTEzUBx98IEnyer2KiIhQbGzsoJo7z/d6vUpISBi07YSEhKCagduJjY1VRESEWXMvgUBAgUDAfNzV1TXcXQcAAJNQSEFnxYoV5r/T0tKUmZmpL3zhCzp48KDmz58vSbLZbEHPMQxj0LqBBtbcq34kNQNVVFTo29/+9n37AgAArOOBLi+PiopSWlqa3n33XfNzOwNnVDo7O83ZF6fTqd7eXvl8vvvWXL16ddC2rl27FlQzcDs+n099fX2DZnrutmnTJvn9fnNpb28PcY8BAMBk8kBBJxAI6MKFC5oxY4bmzJkjp9OphoYGs723t1eNjY1asGCBJCk9PV1TpkwJquno6FBbW5tZk5mZKb/fr9OnT5s1p06dkt/vD6ppa2tTR0eHWVNfXy+73a709PQh+2u32xUTExO0AAAA6wrp1FVpaalyc3M1c+ZMdXZ26u/+7u/U1dWl5557TjabTcXFxSovL1dycrKSk5NVXl6uadOmKT8/X5LkcDi0du1alZSUaPr06YqLi1NpaanS0tLMq7Dmzp2r5cuXq6CgQHv27JEkrVu3Tjk5OUpJSZEkZWVlad68eXK73dq6datu3Lih0tJSFRQUEF4AAIAppKBz5coVfeMb39B//ud/6nd/93c1f/58NTc3a9asWZKkl19+WT09PSosLJTP51NGRobq6+sVHR1tvsbOnTsVHh6u1atXq6enR0uWLNGBAwcUFhZm1hw+fFhFRUXm1Vl5eXmqqqoy28PCwlRXV6fCwkItXLhQkZGRys/P17Zt2x7oYAAAAGsJKejU1NTct91ms6msrExlZWVD1kydOlWVlZWqrKwcsiYuLk7V1dX33dbMmTN17Nix+9YAAIBHG991hQmDu8YCAB42gg4AALCskL8CAhhNzOoAAB4mZnQAAIBlEXQAAIBlEXQAAIBlEXQAAIBlEXQAjLqKigp9+ctfVnR0tBISEvTss8/q4sWLQTWGYaisrEwul0uRkZFavHixzp07F1QTCAS0YcMGxcfHKyoqSnl5ebpy5UpQjc/nk9vtlsPhkMPhkNvt1s2bN4NqLl++rNzcXEVFRSk+Pl5FRUXq7e0dlX0HML4IOgBGXWNjo1588UU1NzeroaFBv/3tb5WVlaXu7m6zZteuXdqxY4eqqqp05swZOZ1OLVu2TLdu3TJriouLVVtbq5qaGjU1Nen27dvKyclRf3+/WZOfn6/W1lZ5PB55PB61trbK7Xab7f39/Vq5cqW6u7vV1NSkmpoaHT16VCUlJWNzMACMKS4vBzDqPB5P0OP9+/crISFBLS0t+tKXviRJ2r17tzZv3qxVq1ZJkg4ePKjExEQdOXJE69evl9/v1759+3To0CHzu/Gqq6uVlJSk48ePKzs7WxcuXJDH41Fzc7MyMjIkSXv37lVmZqYuXryolJQU1dfX6/z582pvb5fL5ZIkbd++XWvWrNGWLVv4vjzAYpjRATDm/H6/pE+/7uWOq1evmt9vJ0l2u12LFi3SiRMnJEktLS3q6+sLqnG5XEpNTTVrTp48KYfDYYYcSZo/f74cDkdQTWpqqhlyJCk7O1uBQEAtLS337G8gEFBXV1fQAmByIOgAGFOGYWjjxo36yle+otTU1KC2xMTEQY+9Xq8kyev1KiIiQrGxsfetSUhIGLTNhISEoJqB24mNjVVERIRZM1BFRYX5mR+Hw6GkpKQQ9hjAeCLoABhTL730kn7961/rBz/4waA2m80W9NgwjEHrBhpYc6/6kdTcbdOmTfL7/ebS3t5+3z4BmDgIOgDGzIYNG/STn/xEb775ph577LFB7QNnVDo7O83ZF6fTqd7eXvl8vvvWXL16ddDrXrt2Lahm4HZ8Pp/6+voGzfTcYbfbFRMTE7QAmBwIOgBGnWEYeumll/SjH/1Iv/zlLzVnzpxBNYmJiWpoaDAf9/b2qrGxUQsWLJAkpaena8qUKUE1HR0damtrM2syMzPl9/t1+vRps+bUqVPy+/1BNW1tbero6DBr6uvrZbfblZ6e/nB3HMC446orAKPuxRdf1JEjR/TjH/9Y0dHR5oyKw+Ewa1544QWVl5crOTlZycnJKi8v17Rp05Sfn2/Wrl27ViUlJZo+fbri4uJUWlqqtLQ08yqsuXPnavny5SooKNCePXskSevWrVNOTo5SUlIkSVlZWZo3b57cbre2bt2qGzduqLS0VAUFBczUABZE0AEw6nbv3i1JWrx4cdD6/fv3m5eTFxcXyzAMFRYWyufzKSMjQ/X19YqOjjbrd+7cqfDwcK1evVo9PT1asmSJDhw4oLCwMLPm8OHDKioqMq/OysvLU1VVldkeFhamuro6FRYWauHChYqMjFR+fr62bds2WrsPYBwRdACMOsMwhmy7c6m2zWZTWVmZysrKhqydOnWqKisrVVlZOWRNXFycqqur79ufmTNn6tixY/fvNABL4DM6AADAsgg6AADAsjh1hXE3+5W68e4CAMCimNEBAACWRdABAACWRdABgHHCaVtg9BF0AACAZRF0AACAZRF0AACAZRF0AACAZRF0AACAZRF0AACAZRF0AACAZRF0AACAZRF0AACAZRF0AACAZRF0AGAC4OsggNFB0AEAAJb1QEGnoqJCNptNxcXF5jrDMFRWViaXy6XIyEgtXrxY586dC3peIBDQhg0bFB8fr6ioKOXl5enKlStBNT6fT263Ww6HQw6HQ263Wzdv3gyquXz5snJzcxUVFaX4+HgVFRWpt7f3QXYJAABYyIiDzpkzZ/S9731PTzzxRND6119/XTt27FBVVZXOnDkjp9OpZcuW6datW2ZNcXGxamtrVVNTo6amJt2+fVs5OTnq7+83a/Lz89Xa2iqPxyOPx6PW1la53W6zvb+/XytXrlR3d7eamppUU1Ojo0ePqqSkZKS7hHHAdD0AYDSNKOjcvn1b3/zmN7V3717Fxsaa6w3D0K5du7R582atWrVKqampOnjwoD766CMdOXJEkuT3+7Vv3z5t375dS5cu1VNPPaXq6mqdPXtWx48flyRduHBBHo9H//t//29lZmYqMzNTe/fu1bFjx3Tx4kVJUn19vc6fP6/q6mo99dRTWrp0qbZv3669e/eqq6vrQY8LAACwgBEFnRdffFErV67U0qVLg9ZfunRJXq9XWVlZ5jq73a5FixbpxIkTkqSWlhb19fUF1bhcLqWmppo1J0+elMPhUEZGhlkzf/58ORyOoJrU1FS5XC6zJjs7W4FAQC0tLffsdyAQUFdXV9ACAACsKzzUJ9TU1Ohf//VfdebMmUFtXq9XkpSYmBi0PjExUR988IFZExERETQTdKfmzvO9Xq8SEhIGvX5CQkJQzcDtxMbGKiIiwqwZqKKiQt/+9reHs5sAAMACQprRaW9v11//9V+rurpaU6dOHbLOZrMFPTYMY9C6gQbW3Kt+JDV327Rpk/x+v7m0t7fft08AAGByCynotLS0qLOzU+np6QoPD1d4eLgaGxv1j//4jwoPDzdnWAbOqHR2dpptTqdTvb298vl89625evXqoO1fu3YtqGbgdnw+n/r6+gbN9Nxht9sVExMTtAAAAOsKKegsWbJEZ8+eVWtrq7k8/fTT+uY3v6nW1lb93u/9npxOpxoaGszn9Pb2qrGxUQsWLJAkpaena8qUKUE1HR0damtrM2syMzPl9/t1+vRps+bUqVPy+/1BNW1tbero6DBr6uvrZbfblZ6ePoJDAQAArCakz+hER0crNTU1aF1UVJSmT59uri8uLlZ5ebmSk5OVnJys8vJyTZs2Tfn5+ZIkh8OhtWvXqqSkRNOnT1dcXJxKS0uVlpZmfrh57ty5Wr58uQoKCrRnzx5J0rp165STk6OUlBRJUlZWlubNmye3262tW7fqxo0bKi0tVUFBATM1AABA0gg+jPxZXn75ZfX09KiwsFA+n08ZGRmqr69XdHS0WbNz506Fh4dr9erV6unp0ZIlS3TgwAGFhYWZNYcPH1ZRUZF5dVZeXp6qqqrM9rCwMNXV1amwsFALFy5UZGSk8vPztW3btoe9SwAAYJJ64KDz1ltvBT222WwqKytTWVnZkM+ZOnWqKisrVVlZOWRNXFycqqur77vtmTNn6tixY6F0FwAAPEL4risAAGBZBB0AAGBZBB0AAGBZBB0AAGBZBB0AAGBZBB0AAGBZBB0AAGBZBB0AAGBZBB0AAGBZBB0AAGBZBB0AAGBZBB0AAGBZBB0AAGBZBB0Ao+5Xv/qVcnNz5XK5ZLPZ9MYbbwyqcTgcstls5jJ//vyg9kAgoA0bNig+Pl5RUVHKy8vTlStXgmp8Pp/cbrccDoccDofcbrdu3rwZVHP58mXl5uYqKipK8fHxKioqUm9v78PeZQATBEEHwKjr7u7Wk08+qaqqqiFrli5dqo6ODnP52c9+FtReXFys2tpa1dTUqKmpSbdv31ZOTo76+/vNmvz8fLW2tsrj8cjj8ai1tVVut9ts7+/v18qVK9Xd3a2mpibV1NTo6NGjKikpefg7DWBCCB/vDgCwvhUrVmjFihX3rbHb7XI6nfds8/v92rdvnw4dOqSlS5dKkqqrq5WUlKTjx48rOztbFy5ckMfjUXNzszIyMiRJe/fuVWZmpi5evKiUlBTV19fr/Pnzam9vl8vlkiRt375da9as0ZYtWxQTE/MQ9xrARMCMDoAJoampSQkJCXr88cdVUFCgzs5Os62lpUV9fX3Kysoy17lcLqWmpurEiROSpJMnT8rhcJghR5Lmz58vh8MRVJOammqGHEnKzs5WIBBQS0vLaO8igHHAjA6ACWHv3r2aO3euLl26pP/5P/+nnnnmGbW0tMhut8vr9SoiIkKxsbFBz0lMTJTX65Ukeb1eJSQkDHrdhISEoJrExMSg9tjYWEVERJg19xIIBBQIBMzHXV1dI95PAGOLGR0AE0J2drZSU1OVm5urn//85/q3f/s31dXV3fc5hmHIZrOZj+/+94PUDFRRUWF+wNnhcCgpKWk4u3Rfs1+5/74BeDgIOgAmnBkzZmjWrFl69913JUlOp1O9vb3y+XxBdZ2dneYMjdPp1NWrVwe91rVr14JqBs7c+Hw+9fX1DZrpudumTZvk9/vNpb29/YH2D8DYIegAmHCuX7+u9vZ2zZgxQ5KUnp6uKVOmqKGhwazp6OhQW1ubFixYIEnKzMyU3+/X6dOnzZpTp07J7/cH1bS1tamjo8Osqa+vl91uV3p6+pD9sdvtiomJCVoATA58RgfAqLt9+7Z+85vfmI8vXbqk1tZWxcXFKTz802Ho9OnT+uIXv6j3339f3/rWtxQfH68//uM/lvTpPXbWrl2rkpISTZ8+XXFxcSotLVVaWpp5FdbcuXO1fPlyFRQUaM+ePZKkdevWKScnRykpKZKkrKwszZs3T263W1u3btWNGzdUWlqqgoICwgtgUQQdjBs+o/DoePvtt/XVr37VfLxx40ZJ0nPPPae///u/lyR94xvfkN/v14wZM/TVr35VP/zhDxUdHW0+Z+fOnQoPD9fq1avV09OjJUuW6MCBAwoLCzNrDh8+rKKiIvPqrLy8vKB794SFhamurk6FhYVauHChIiMjlZ+fr23bto3q/gMYPwQdAKNu8eLFMgzjnm13rmD693//9/vOqkydOlWVlZWqrKwcsiYuLk7V1dX37cvMmTN17NixYfQagBXwGR0AAGBZBB0AAGBZBB0AAGBZBB0AAGBZBB0AAGBZBB2MOS4rBwCMFYIOAACwLIIOAACwLIIOAIwzTucCo4egAwAALIugAwAALCukoLN792498cQTiomJUUxMjDIzM/Xzn//cbDcMQ2VlZXK5XIqMjNTixYt17ty5oNcIBALasGGD4uPjFRUVpby8PF25ciWoxufzye12y+FwyOFwyO126+bNm0E1ly9fVm5urqKiohQfH6+ioiL19vaGuPsAAMDKQgo6jz32mF577TW9/fbbevvtt/XMM8/oa1/7mhlmXn/9de3YsUNVVVU6c+aMnE6nli1bplu3bpmvUVxcrNraWtXU1KipqUm3b99WTk6O+vv7zZr8/Hy1trbK4/HI4/GotbVVbrfbbO/v79fKlSvV3d2tpqYm1dTU6OjRoyopKXnQ4wEAACwkpG8vz83NDXq8ZcsW7d69W83NzZo3b5527dqlzZs3a9WqVZKkgwcPKjExUUeOHNH69evl9/u1b98+HTp0SEuXLpUkVVdXKykpScePH1d2drYuXLggj8ej5uZmZWRkSJL27t2rzMxMXbx4USkpKaqvr9f58+fV3t4ul8slSdq+fbvWrFmjLVu23PcbkAEAwKNjxJ/R6e/vV01Njbq7u5WZmalLly7J6/UqKyvLrLHb7Vq0aJFOnDghSWppaVFfX19QjcvlUmpqqllz8uRJORwOM+RI0vz58+VwOIJqUlNTzZAjSdnZ2QoEAmppaRnpLgEAAIsJaUZHks6ePavMzEx9/PHH+p3f+R3V1tZq3rx5ZghJTEwMqk9MTNQHH3wgSfJ6vYqIiFBsbOygGq/Xa9YkJCQM2m5CQkJQzcDtxMbGKiIiwqy5l0AgoEAgYD7u6uoa7m4DAIBJKOQZnZSUFLW2tqq5uVkvvPCCnnvuOZ0/f95st9lsQfWGYQxaN9DAmnvVj6RmoIqKCvMDzg6HQ0lJSfftFwCMB+6rAzw8IQediIgIffGLX9TTTz+tiooKPfnkk/qHf/gHOZ1OSRo0o9LZ2WnOvjidTvX29srn89235urVq4O2e+3ataCagdvx+Xzq6+sbNNNzt02bNsnv95tLe3t7iHsPAAAmkwe+j45hGAoEApozZ46cTqcaGhrMtt7eXjU2NmrBggWSpPT0dE2ZMiWopqOjQ21tbWZNZmam/H6/Tp8+bdacOnVKfr8/qKatrU0dHR1mTX19vex2u9LT04fsq91uNy+Nv7MAwETG7A7wYEL6jM63vvUtrVixQklJSbp165Zqamr01ltvyePxyGazqbi4WOXl5UpOTlZycrLKy8s1bdo05efnS5IcDofWrl2rkpISTZ8+XXFxcSotLVVaWpp5FdbcuXO1fPlyFRQUaM+ePZKkdevWKScnRykpKZKkrKwszZs3T263W1u3btWNGzdUWlqqgoICwgsAADCFFHSuXr0qt9utjo4OORwOPfHEE/J4PFq2bJkk6eWXX1ZPT48KCwvl8/mUkZGh+vp6RUdHm6+xc+dOhYeHa/Xq1erp6dGSJUt04MABhYWFmTWHDx9WUVGReXVWXl6eqqqqzPawsDDV1dWpsLBQCxcuVGRkpPLz87Vt27YHOhgYffx1CgAYSyEFnX379t233WazqaysTGVlZUPWTJ06VZWVlaqsrByyJi4uTtXV1ffd1syZM3Xs2LH71gAAgEcb33UFAAAsi6ADAAAsi6ADAAAsi6ADAAAsi6ADAAAsi6ADAAAsi6ADAAAsi6ADAAAsi6ADAAAsi6ADAAAsi6ADAAAsi6ADAAAsi6ADAAAsi6ADAAAsi6ADAAAsi6ADAAAsi6ADAAAsi6ADAAAsi6ADAAAsi6ADAAAsi6ADAAAsi6ADYNT96le/Um5urlwul2w2m954441BNRUVFXK5XIqMjNTixYt17ty5oPZAIKANGzYoPj5eUVFRysvL05UrV4JqfD6f3G63HA6HHA6H3G63bt68GVRz+fJl5ebmKioqSvHx8SoqKlJvb+/D3mUAEwRBB8Co6+7u1pNPPqmqqqoha77zne+oqqpKZ86ckdPp1LJly3Tr1i2zvbi4WLW1taqpqVFTU5Nu376tnJwc9ff3mzX5+flqbW2Vx+ORx+NRa2ur3G632d7f36+VK1equ7tbTU1Nqqmp0dGjR1VSUjI6Ow5g3IWPdwdgfbNfqdP7r60c725gHK1YsUIrVqy4Z5thGJKkkpISrVq1SpJ08OBBJSYm6siRI1q/fr38fr/27dunQ4cOaenSpZKk6upqJSUl6fjx48rOztaFCxfk8XjU3NysjIwMSdLevXuVmZmpixcvKiUlRfX19Tp//rza29vlcrkkSdu3b9eaNWu0ZcsWxcTEjPahADDGmNEBMK7ef/99SdIzzzxjrrPb7Vq0aJFOnDghSWppaVFfX5+ysrLMGpfLpdTUVLPm5MmTcjgcZsiRpPnz58vhcATVpKammiFHkrKzsxUIBNTS0jJq+whg/DCjA2BcdXZ2SpISEhKC1icmJuqDDz6QJHm9XkVERCg2NnZQjdfrNWsGvsad1727JjExMag9NjZWERERZs29BAIBBQIB83FXV9dwdw/AOGNGB8CEYLPZgh4bhjFo3UADa+5VP5KagSoqKswPODscDiUlJd23XwAmDoIOgHF1Zxbm6tWrQes7OzvN2Ren06ne3l75fL771gx8DUm6du1aUM3AmRufz6e+vr5BMz1327Rpk/x+v7m0t7eHuJcAxgtBB8C4mj17tiTpzTffNNf19vaqsbFRCxYskCSlp6drypQpamhoMGs6OjrU1tZm1mRmZsrv9+v06dNmzalTp+T3+4Nq2tra1NHRYdbU19fLbrcrPT19yD7a7XbFxMQELQAmBz6jA2DU3b59W7/5zW/Mx5cuXVJra6vi4uL0+c9/XpK0Y8cOpaWlKTk5WeXl5Zo2bZry8/MlSQ6HQ2vXrlVJSYmmT5+uuLg4lZaWKi0tzbwKa+7cuVq+fLkKCgq0Z88eSdK6deuUk5OjlJQUSVJWVpbmzZsnt9utrVu36saNGyotLVVBQQHhBbAoZnQAjLq3335bTz31lJ566ilJ0saNG/XUU0/pf/2v/2XWvPDCCyosLNTTTz+tDz/8UPX19YqOjjbbd+7cqWeffVarV6/WwoULNW3aNP30pz9VWFiYWXP48GGlpaUpKytLWVlZeuKJJ3To0CGzPSwsTHV1dZo6daoWLlyo1atX69lnn9W2bdvG4CgAGA/M6AAYdYsXLzbvlzPQnSuYNm3apIqKiiFfY+rUqaqsrFRlZeWQNXFxcaqurr5vX2bOnKljx44No9cArIAZHQAAYFkEHYya2a/UjXcXAACPOIIOAACwLIIOAExQzIoCDy6koFNRUaEvf/nLio6OVkJCgp599lldvHgxqMYwDJWVlcnlcikyMlKLFy/WuXPngmoCgYA2bNig+Ph4RUVFKS8vT1euXAmq8fl8crvd5p1I3W63bt68GVRz+fJl5ebmKioqSvHx8SoqKlJvb28ouwQAACwspKDT2NioF198Uc3NzWpoaNBvf/tbZWVlqbu726x5/fXXtWPHDlVVVenMmTNyOp1atmyZbt26ZdYUFxertrZWNTU1ampq0u3bt5WTk6P+/n6zJj8/X62trfJ4PPJ4PGptbZXb7Tbb+/v7tXLlSnV3d6upqUk1NTU6evSoSkpKHuR4AAAACwnp8nKPxxP0eP/+/UpISFBLS4v+6I/+SIZhaNeuXdq8ebNWrVolSTp48KASExN15MgRrV+/Xn6/X/v27dOhQ4fMG31VV1crKSlJx48fV3Z2ti5cuCCPx6Pm5mbzm4j37t2rzMxMXbx4USkpKaqvr9f58+fV3t5ufhPx9u3btWbNGm3ZsoWbfwEAgAf7jI7f75f06b0rpE/vdur1epWVlWXW2O12LVq0SCdOnJAktbS0qK+vL6jG5XIpNTXVrDl58qQcDocZciRp/vz5cjgcQTWpqalmyJGk7OxsBQIBtbS03LO/gUBAXV1dQQsAALCuEQcdwzC0ceNGfeUrX1FqaqokmV+WN/DL8RITE802r9eriIgIxcbG3rfmzhf93S0hISGoZuB2YmNjFRERMehL++7gG4gBAHi0jDjovPTSS/r1r3+tH/zgB4PabDZb0GPDMAatG2hgzb3qR1JzN76BGACAR8uIgs6GDRv0k5/8RG+++aYee+wxc73T6ZSkQTMqnZ2d5uyL0+lUb2+vfD7ffWuuXr06aLvXrl0Lqhm4HZ/Pp76+vkEzPXfwDcQAJjMuNwdCF1LQMQxDL730kn70ox/pl7/8pebMmRPUPmfOHDmdTjU0NJjrent71djYqAULFkiS0tPTNWXKlKCajo4OtbW1mTWZmZny+/06ffq0WXPq1Cn5/f6gmra2NnV0dJg19fX1stvtSk9PD2W3AGDSIfQAwxPSVVcvvviijhw5oh//+MeKjo42Z1QcDociIyNls9lUXFys8vJyJScnKzk5WeXl5Zo2bZry8/PN2rVr16qkpETTp09XXFycSktLlZaWZl6FNXfuXC1fvlwFBQXas2ePJGndunXKyclRSkqKJCkrK0vz5s2T2+3W1q1bdePGDZWWlqqgoICZGgAAICnEoLN7925Jn34T8d3279+vNWvWSJJefvll9fT0qLCwUD6fTxkZGaqvr1d0dLRZv3PnToWHh2v16tXq6enRkiVLdODAAYWFhZk1hw8fVlFRkXl1Vl5enqqqqsz2sLAw1dXVqbCwUAsXLlRkZKTy8/O1bdu2kA4AAACwrpCCjmEYn1ljs9lUVlamsrKyIWumTp2qyspKVVZWDlkTFxen6urq+25r5syZOnbs2Gf2CQAAPJr4risAAGBZBB08VHxAEgAwkRB0AACAZRF0gEfQ7FfqmH0D8Egg6AAAAMsi6AAAAMsi6AAAAMsi6AAAAMsi6AAAAMsi6AAAAMsi6OCh4XLlyYefGQCrI+gAAADLIujggTAjAACYyAg6AADAsgg6AADAsgg6AADAsgg6AADAsgg6AADAsgg6AADAsgg6eGBcYg4AmKgIOgAwCfAHBTAyBB0AAGBZBB0AAGBZBB0AAGBZBB0AsBA+ywMEI+gAAADLIugAwCTDrA0wfAQdjAgDLQBgMiDoAJgQHA6HbDabuTidTrPNMAyVlZXJ5XIpMjJSixcv1rlz54KeHwgEtGHDBsXHxysqKkp5eXm6cuVKUI3P55Pb7ZbD4ZDD4ZDb7dbNmzfHYvcAjBOCDoaFGRyMtrlz56qjo8Nczp49a7a9/vrr2rFjh6qqqnTmzBk5nU4tW7ZMt27dMmuKi4tVW1urmpoaNTU16fbt28rJyVF/f79Zk5+fr9bWVnk8Hnk8HrW2tsrtdo/pfgIYW+Hj3QEAkKTw8PCgWZw7DMPQrl27tHnzZq1atUqSdPDgQSUmJurIkSNav369/H6/9u3bp0OHDmnp0qWSpOrqaiUlJen48ePKzs7WhQsX5PF41NzcrIyMDEnS3r17lZmZqYsXLyolJWXsdvYhm/1Knd5/beV4dwOYkJjRATAh/Pu//7tcLpfmzJmjr3/963rvvfckSZcuXZLX61VWVpZZa7fbtWjRIp04cUKS1NLSor6+vqAal8ul1NRUs+bkyZNyOBxmyJGk+fPny+FwmDVDCQQC6urqCloATA4EHYSM01gYDd/97nf1i1/8Qnv37pXX69WCBQt0/fp1eb1eSVJiYmJQfWJiotnm9XoVERGh2NjY+9YkJCQM2m5CQoJZM5SKigrzcz0Oh0NJSUkj3k8AY4ugA2BC+NrXvqa0tDQtXbpUdXWfhumDBw+a7TabLajeMIxB6wYaWHOv+uG8zqZNm+T3+82lvb39M/cHwMRA0AEw4URFRSktLU3vvvuu+bmdgbMunZ2d5iyP0+lUb2+vfD7ffWuuXr06aFvXrl0bNFs0kN1uV0xMTNACYHIg6ACYcAKBgC5cuKAZM2Zozpw5cjqdamhoMNt7e3vV2NioBQsWSJLS09M1ZcqUoJqOjg61tbWZNZmZmfL7/Tp9+rRZc+rUKfn9frMGgPWEHHR+9atfKTc3Vy6XSzabTW+88UZQ+1je7+Ly5cvKzc1VVFSU4uPjVVRUpN7e3lB3CcAE0NTUpEuXLunUqVP60z/9U3V1dem5556TzWZTcXGxysvLVVtbq7a2Nq1Zs0bTpk1Tfn6+pE/vwbN27VqVlJTon//5n/XOO+/oL/7iL8xTYdKnl68vX75cBQUFam5uVnNzswoKCpSTkzOpr7gCcH8hB53u7m49+eSTqqqqumf7WN3vor+/XytXrlR3d7eamppUU1Ojo0ePqqSkJNRdAjABrF27VikpKVq1apUiIiLU3NysWbNmSZJefvllFRcXq7CwUE8//bQ+/PBD1dfXKzo62nz+zp079eyzz2r16tVauHChpk2bpp/+9KcKCwszaw4fPqy0tDRlZWUpKytLTzzxhA4dOjTm+wpg7IR8H50VK1ZoxYoV92wby/td1NfX6/z582pvb5fL5ZIkbd++XWvWrNGWLVs4hw5MMhcvXhzyfWuz2VRWVqaysrIhnz916lRVVlaqsrJyyJq4uDhVV1c/aFcnJe61g0fVQ/2Mzlje7+LkyZNKTU01Q44kZWdnKxAIqKWl5Z79414YAAA8Wh5q0BnL+114vd5B24mNjVVERMSQ98TgXhgPhvvnAAAmm1G56mqs7ncR6j0xuBfGZyPMAACs5KEGnbG834XT6Ry0HZ/Pp76+viHvicG9MAAAeLQ81KAzlve7yMzMVFtbmzo6Osya+vp62e12paenP8zdeqTNfqWOWR4AwKQV8lVXt2/f1m9+8xvz8aVLl9Ta2qq4uDjNnDnTvN9FcnKykpOTVV5ePuT9LqZPn664uDiVlpYOeb+LPXv2SJLWrVsXdL+LrKwszZs3T263W1u3btWNGzdUWlqqgoICZmoeEgIOAGCyCznovP322/rqV79qPt64caMk6bnnntOBAwf08ssvq6enR4WFhfL5fMrIyLjn/S7Cw8O1evVq9fT0aMmSJTpw4MCg+10UFRWZV2fl5eUF3bsnLCxMdXV1Kiws1MKFCxUZGan8/Hxt27Yt9KMAAAAsKeSgs3jxYhmGMWT7WN7vYubMmTp27Nhn9hkAADya+K4rALAoTj8DBB0AmNQIM8D9EXQeUQyOACTGAlhfyJ/RAQBMPAQW4N6Y0QEAAJZF0AEAAJZF0MGgKW/uhmxt/GwBPEoIOgAAwLIIOhbHX+8ARoKxA1ZB0AEeIfznBYnfAzxaCDoAAMCyCDoAAMCyCDoWwVQ0gHt52FdRMtZgsiHoAAAAy+IrIB5Bd/9Fxl9ngPXwvgb+CzM6wCOA//gAPKoIOgAASQRiWBNBZ5JhIAIw0fC1MZjICDoWxsADAHjUEXQA4BEUyh9C/NGEyYygM0ENZyqYgQpAKMb6FBOntDAREHQsgIEEwGTCmIWxRNABLI7/VAA8ygg642y4p6iG+58V/6kBeBDjeUo81NdjvMNwEHQAABMaAWhymKifySLoTCIT8RcIwOQ3nLEllFllxqpHz0T+mRN0JhBOUQGwKgIQxgtBZxQ86JuZwQAPA79HeFBj8TvE7ylGG0HnATAIAHjUjdYYNdTrhroeCB/vDljd7Ffq9P5rK4dsw8TzWT+X919bed+f63i60y9+tzCaHuT3fzR/N/m9x70wo/OQ3O8Ndncbf41MHAN/LqF+huBOLT874FPDGeuG89wHWY9PcXz+CzM6D9FE/Sv/UXbnzX73LMfd/2YwAMbPwwg3vIdHFgYHzkxb+f8vZnRCNNy/+nnzjb27w8tYH/+JEJz4ncNENR6/m4/CVV4PYx/vNQt3r9nuyYyg84Am+y/AZHH3m+1egWYi/hwmYp+AR43V3odjFTyGmj170FP+44GgM0yT4YdpVZPtuI/lIMTvJfDZJst/yPczmfs+3iZ90Pmnf/onzZkzR1OnTlV6err+5V/+Zby7BJiGmgp+GK+JB8PY8WiaLO+fhzlmPOomddD54Q9/qOLiYm3evFnvvPOO/vAP/1ArVqzQ5cuXx7trwCADB6uBp97u9Rfn3esZ7B4exg7c6/03Xv0YSRuGb1IHnR07dmjt2rX6q7/6K82dO1e7du1SUlKSdu/ePd5dA+7rfn+tEWxGH2MHhjJUABruB3RHcgXURAhcVjZpLy/v7e1VS0uLXnnllaD1WVlZOnHixD2fEwgEFAgEzMd+v1+S1NXV9Znb+yTwUdDjrq4uc91w/33nde7+90h81vYGvv5nrR/YvwfZ9r329bO2PZJ9H8nxf9BtD+yDVbY9nN//UN39M/8sd+oMw3jo/biX8R47Bhr4M0p99Rf3XD9Zfp+svO2Zf/N/1PbtbHP9zL/5P/d8/futb/t2tvkzvvu1JssxuPNvaejf7QcZU4Y7doQ0bhiT1IcffmhIMv7v//2/Qeu3bNliPP744/d8zquvvmpIYmFhmYBLe3v7WAwdjB0sLBZahjNuTNoZnTtsNlvQY8MwBq27Y9OmTdq4caP5+JNPPtGNGzc0ffr0IZ/T1dWlpKQktbe3KyYm5uF13GI4TsPDcRrMMAzdunVLLpdrTLfL2DExcJyGh+MULJRxY9IGnfj4eIWFhcnr9Qat7+zsVGJi4j2fY7fbZbfbg9Z9/vOfH9b2YmJi+OUaBo7T8HCcgjkcjjHbFmPHxMRxGh6O038Z7rgxaT+MHBERofT0dDU0NAStb2ho0IIFC8apVwAmOsYO4NEyaWd0JGnjxo1yu916+umnlZmZqe9973u6fPmynn/++fHuGoAJjLEDeHRM6qDz53/+57p+/br+9m//Vh0dHUpNTdXPfvYzzZo166Ftw26369VXXx00bY1gHKfh4ThNDIwdEwfHaXg4TiNnM4wxuqYTAABgjE3az+gAAAB8FoIOAACwLIIOAACwLIIOAACwLILOZ/inf/onzZkzR1OnTlV6err+5V/+Zby7NG7Kyspks9mCFqfTabYbhqGysjK5XC5FRkZq8eLFOnfu3Dj2eGz86le/Um5urlwul2w2m954442g9uEcl0AgoA0bNig+Pl5RUVHKy8vTlStXxnAv8DAxbgRj7Lg3xo6xQdC5jx/+8IcqLi7W5s2b9c477+gP//APtWLFCl2+fHm8uzZufv/3f18dHR3mcvbsWbPt9ddf144dO1RVVaUzZ87I6XRq2bJlunXr1jj2ePR1d3frySefVFVV1T3bh3NciouLVVtbq5qaGjU1Nen27dvKyclRf3//WO0GHhLGjXtj7BiMsWOMPMB341nef//v/914/vnng9b9t//234xXXnllnHo0vl599VXjySefvGfbJ598YjidTuO1114z13388ceGw+Ewvvvd745RD8efJKO2ttZ8PJzjcvPmTWPKlClGTU2NWfPhhx8an/vc5wyPxzNmfcfDwbgxGGPHZ2PsGD3M6Ayht7dXLS0tysrKClqflZWlEydOjFOvxt+7774rl8ulOXPm6Otf/7ree+89SdKlS5fk9XqDjpfdbteiRYse6eM1nOPS0tKivr6+oBqXy6XU1NRH+thNRowbQ2PsCA1jx8ND0BnCf/7nf6q/v3/Ql/wlJiYO+jLAR0VGRoa+//3v6xe/+IX27t0rr9erBQsW6Pr16+Yx4XgFG85x8Xq9ioiIUGxs7JA1mBwYN+6NsSN0jB0Pz6T+CoixYLPZgh4bhjFo3aNixYoV5r/T0tKUmZmpL3zhCzp48KDmz58vieM1lJEcF47d5MX7IBhjx8gxdjw4ZnSGEB8fr7CwsEGpuLOzc1DCflRFRUUpLS1N7777rnkFBccr2HCOi9PpVG9vr3w+35A1mBwYN4aHseOzMXY8PASdIURERCg9PV0NDQ1B6xsaGrRgwYJx6tXEEggEdOHCBc2YMUNz5syR0+kMOl69vb1qbGx8pI/XcI5Lenq6pkyZElTT0dGhtra2R/rYTUaMG8PD2PHZGDseovH7HPTEV1NTY0yZMsXYt2+fcf78eaO4uNiIiooy3n///fHu2rgoKSkx3nrrLeO9994zmpubjZycHCM6Oto8Hq+99prhcDiMH/3oR8bZs2eNb3zjG8aMGTOMrq6uce756Lp165bxzjvvGO+8844hydixY4fxzjvvGB988IFhGMM7Ls8//7zx2GOPGcePHzf+9V//1XjmmWeMJ5980vjtb387XruFEWLcGIyx494YO8YGQeczfOc73zFmzZplREREGH/wB39gNDY2jneXxs2f//mfGzNmzDCmTJliuFwuY9WqVca5c+fM9k8++cR49dVXDafTadjtduOP/uiPjLNnz45jj8fGm2++aUgatDz33HOGYQzvuPT09BgvvfSSERcXZ0RGRho5OTnG5cuXx2Fv8DAwbgRj7Lg3xo6xYTMMwxifuSQAAIDRxWd0AACAZRF0AACAZRF0AACAZRF0AACAZRF0AACAZRF0AACAZRF0AACAZRF0AACAZRF0AACAZRF0AACAZRF0AACAZRF0AACAZf1/fkiZRb5J5nEAAAAASUVORK5CYII=\n",
      "text/plain": [
       "<Figure size 640x480 with 2 Axes>"
      ]
     },
     "metadata": {},
     "output_type": "display_data"
    }
   ],
   "source": [
    "import matplotlib.pyplot as plt\n",
    "\n",
    "fig, axes = plt.subplots(1, 2)\n",
    "\n",
    "axes[0].bar(height=first_series, x=first_series.index)\n",
    "axes[1].bar(height=second_series, x=second_series.index)"
   ]
  },
  {
   "cell_type": "code",
   "execution_count": null,
   "metadata": {},
   "outputs": [],
   "source": [
    "#DA RIGUARDARE L'ESERCIZIO SU TIME SERIES E CONFRONTARSI\n",
    "#PER VEDERE SE LA LOGICA HA SENSO "
   ]
  }
 ],
 "metadata": {
  "kernelspec": {
   "display_name": "Python 3 (ipykernel)",
   "language": "python",
   "name": "python3"
  },
  "language_info": {
   "codemirror_mode": {
    "name": "ipython",
    "version": 3
   },
   "file_extension": ".py",
   "mimetype": "text/x-python",
   "name": "python",
   "nbconvert_exporter": "python",
   "pygments_lexer": "ipython3",
<<<<<<< Updated upstream
   "version": "3.8.10"
=======
   "version": "3.9.12"
>>>>>>> Stashed changes
  }
 },
 "nbformat": 4,
 "nbformat_minor": 2
}
