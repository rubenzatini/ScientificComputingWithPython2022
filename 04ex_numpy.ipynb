{
 "cells": [
  {
   "cell_type": "markdown",
   "metadata": {},
   "source": [
    "1\\. **Reductions**\n",
    "\n",
    "Find the total mean, and the mean for each row and column of the following matrix:\n",
    "\n",
    "```python\n",
    "m = np.arange(12).reshape((3,4))\n",
    "```"
   ]
  },
  {
   "cell_type": "code",
   "execution_count": 44,
   "metadata": {},
   "outputs": [
    {
     "name": "stdout",
     "output_type": "stream",
     "text": [
      "starting matrix\n",
      " [[ 0  1  2  3]\n",
      " [ 4  5  6  7]\n",
      " [ 8  9 10 11]] \n",
      "\n",
      "mean along 1 ° column: 4.00\n",
      "mean along 2 ° column: 5.00\n",
      "mean along 3 ° column: 6.00\n",
      "mean along 4 ° column: 7.00\n",
      "\n",
      "\n",
      "mean along 1 ° row: 1.50\n",
      "mean along 2 ° row: 5.50\n",
      "mean along 3 ° row: 9.50\n",
      "\n",
      "The average of all elements is  5.5\n"
     ]
    }
   ],
   "source": [
    "import numpy as np\n",
    "\n",
    "m = np.arange(12).reshape((3,4))\n",
    "f=m.flatten()\n",
    "print('starting matrix\\n', m, '\\n')\n",
    "#print(f, '\\n')\n",
    "\n",
    "for i in range(m.shape[1]):\n",
    "    print(\"mean along %d ° column: %.2f\" %(i+1, m[:,i].mean()))\n",
    "print('\\n')\n",
    "for i in range(m.shape[0]):\n",
    "    print(\"mean along %d ° row: %.2f\" %(i+1, m[i].mean()))\n",
    "print(\"\\nThe average of all elements is \", f.mean())"
   ]
  },
  {
   "cell_type": "markdown",
   "metadata": {},
   "source": [
    "2\\. **Outer product**\n",
    "\n",
    "Find the outer product of the following vectors:\n",
    "\n",
    "```python\n",
    "u = np.array([1, 3, 5, 7])\n",
    "v = np.array([2, 4, 6, 8])\n",
    "```\n",
    "\n",
    "Use different methods to do this:\n",
    "\n",
    "   1. Using the function `outer` in numpy\n",
    "   2. Using a nested `for` loop or a list comprehension\n",
    "   3. Using numpy broadcasting operations"
   ]
  },
  {
   "cell_type": "code",
   "execution_count": 3,
   "metadata": {},
   "outputs": [
    {
     "name": "stdout",
     "output_type": "stream",
     "text": [
      "Matrix obtained using .outer()\n",
      "[[ 2  4  6  8]\n",
      " [ 6 12 18 24]\n",
      " [10 20 30 40]\n",
      " [14 28 42 56]]\n",
      "\n",
      "Matrix obtained using for cycle\n",
      "[[ 2.  4.  6.  8.]\n",
      " [ 6. 12. 18. 24.]\n",
      " [10. 20. 30. 40.]\n",
      " [14. 28. 42. 56.]]\n",
      "\n",
      "Matrix obtained using list comprehension\n",
      "[[ 2  4  6  8]\n",
      " [ 6 12 18 24]\n",
      " [10 20 30 40]\n",
      " [14 28 42 56]]\n",
      "\n",
      "Matrix obtained using broadcasting operations\n",
      "[[ 2  4  6  8]\n",
      " [ 6 12 18 24]\n",
      " [10 20 30 40]\n",
      " [14 28 42 56]]\n"
     ]
    }
   ],
   "source": [
    "import numpy as np\n",
    "\n",
    "u = np.array([1, 3, 5, 7])\n",
    "v = np.array([2, 4, 6, 8])\n",
    "\n",
    "print(\"Matrix obtained using .outer()\")\n",
    "print(np.outer(u,v))\n",
    "\n",
    "m=np.eye(4)\n",
    "for i in range (4):\n",
    "    for j in range(4):\n",
    "        m[i,j]=u[i]*v[j]\n",
    "        \n",
    "print(\"\\nMatrix obtained using for cycle\")\n",
    "print(m)\n",
    "\n",
    "matrice=np.array([u[i]*v[j] for i in range(4) for j in range(4)]).reshape(4,4)\n",
    "print(\"\\nMatrix obtained using list comprehension\")\n",
    "print(matrice)\n",
    "print(\"\\nMatrix obtained using broadcasting operations\")\n",
    "print( u[:,np.newaxis]*v )"
   ]
  },
  {
   "cell_type": "markdown",
   "metadata": {},
   "source": [
    "3\\. **Matrix masking**\n",
    "\n",
    "Create a 10 by 6 matrix of float random numbers, distributed between 0 and 3 according to a flat distribution.\n",
    "\n",
    "After creating the matrix, set all entries $< 0.3$ to zero using a mask."
   ]
  },
  {
   "cell_type": "code",
   "execution_count": 46,
   "metadata": {},
   "outputs": [
    {
     "name": "stdout",
     "output_type": "stream",
     "text": [
      "masked matrix:\n",
      "\n",
      " [[2.91352814 1.1306201 ]\n",
      " [0.3342693  2.25923066]\n",
      " [2.25946358 1.6243861 ]\n",
      " [0.         0.76019227]\n",
      " [1.48852406 0.60039894]\n",
      " [1.31799663 1.29104463]\n",
      " [1.21326763 2.52266741]\n",
      " [0.65236249 2.31980325]\n",
      " [2.48353157 1.36304897]\n",
      " [0.         2.94508381]]\n"
     ]
    }
   ],
   "source": [
    "import numpy as np\n",
    "\n",
    "m= np.random.rand(10,2)*3\n",
    "mask=(m < 0.3)\n",
    "m[mask]=0\n",
    "print('masked matrix:\\n\\n', m)"
   ]
  },
  {
   "cell_type": "markdown",
   "metadata": {},
   "source": [
    "4\\. **Trigonometric functions**\n",
    "\n",
    "Use `np.linspace` to create an array of 100 numbers between $0$ and $2\\pi$ (inclusive).\n",
    "\n",
    "  * Extract every 10th element using the slice notation\n",
    "  * Reverse the array using the slice notation\n",
    "  * Extract elements where the absolute difference between the `sin` and `cos` functions evaluated for that element is $< 0.1$\n",
    "  * **Optional**: make a plot showing the sin and cos functions and indicate where they are close"
   ]
  },
  {
   "cell_type": "code",
   "execution_count": 47,
   "metadata": {},
   "outputs": [
    {
     "name": "stdout",
     "output_type": "stream",
     "text": [
      "array of 100 numbers between 0 and 2𝜋:\n",
      " [0.         0.06346652 0.12693304 0.19039955 0.25386607 0.31733259\n",
      " 0.38079911 0.44426563 0.50773215 0.57119866 0.63466518 0.6981317\n",
      " 0.76159822 0.82506474 0.88853126 0.95199777 1.01546429 1.07893081\n",
      " 1.14239733 1.20586385 1.26933037 1.33279688 1.3962634  1.45972992\n",
      " 1.52319644 1.58666296 1.65012947 1.71359599 1.77706251 1.84052903\n",
      " 1.90399555 1.96746207 2.03092858 2.0943951  2.15786162 2.22132814\n",
      " 2.28479466 2.34826118 2.41172769 2.47519421 2.53866073 2.60212725\n",
      " 2.66559377 2.72906028 2.7925268  2.85599332 2.91945984 2.98292636\n",
      " 3.04639288 3.10985939 3.17332591 3.23679243 3.30025895 3.36372547\n",
      " 3.42719199 3.4906585  3.55412502 3.61759154 3.68105806 3.74452458\n",
      " 3.8079911  3.87145761 3.93492413 3.99839065 4.06185717 4.12532369\n",
      " 4.1887902  4.25225672 4.31572324 4.37918976 4.44265628 4.5061228\n",
      " 4.56958931 4.63305583 4.69652235 4.75998887 4.82345539 4.88692191\n",
      " 4.95038842 5.01385494 5.07732146 5.14078798 5.2042545  5.26772102\n",
      " 5.33118753 5.39465405 5.45812057 5.52158709 5.58505361 5.64852012\n",
      " 5.71198664 5.77545316 5.83891968 5.9023862  5.96585272 6.02931923\n",
      " 6.09278575 6.15625227 6.21971879 6.28318531] \n",
      "\n",
      "every tenth element:\n",
      " [0.57119866 1.20586385 1.84052903 2.47519421 3.10985939 3.74452458\n",
      " 4.37918976 5.01385494 5.64852012 6.28318531] \n",
      "\n",
      "reversed array:\n",
      " [6.28318531 6.21971879 6.15625227 6.09278575 6.02931923 5.96585272\n",
      " 5.9023862  5.83891968 5.77545316 5.71198664 5.64852012 5.58505361\n",
      " 5.52158709 5.45812057 5.39465405 5.33118753 5.26772102 5.2042545\n",
      " 5.14078798 5.07732146 5.01385494 4.95038842 4.88692191 4.82345539\n",
      " 4.75998887 4.69652235 4.63305583 4.56958931 4.5061228  4.44265628\n",
      " 4.37918976 4.31572324 4.25225672 4.1887902  4.12532369 4.06185717\n",
      " 3.99839065 3.93492413 3.87145761 3.8079911  3.74452458 3.68105806\n",
      " 3.61759154 3.55412502 3.4906585  3.42719199 3.36372547 3.30025895\n",
      " 3.23679243 3.17332591 3.10985939 3.04639288 2.98292636 2.91945984\n",
      " 2.85599332 2.7925268  2.72906028 2.66559377 2.60212725 2.53866073\n",
      " 2.47519421 2.41172769 2.34826118 2.28479466 2.22132814 2.15786162\n",
      " 2.0943951  2.03092858 1.96746207 1.90399555 1.84052903 1.77706251\n",
      " 1.71359599 1.65012947 1.58666296 1.52319644 1.45972992 1.3962634\n",
      " 1.33279688 1.26933037 1.20586385 1.14239733 1.07893081 1.01546429\n",
      " 0.95199777 0.88853126 0.82506474 0.76159822 0.6981317  0.63466518\n",
      " 0.57119866 0.50773215 0.44426563 0.38079911 0.31733259 0.25386607\n",
      " 0.19039955 0.12693304 0.06346652 0.        ] \n",
      "\n",
      "masked array:\n",
      " [0.76159822 0.82506474 3.87145761 3.93492413]\n"
     ]
    },
    {
     "data": {
      "image/png": "[encoded data removed]",
      "text/plain": [
       "<Figure size 1000x600 with 1 Axes>"
      ]
     },
     "metadata": {},
     "output_type": "display_data"
    }
   ],
   "source": [
    "import numpy as np\n",
    "import matplotlib.pyplot as plt\n",
    "\n",
    "array = np.linspace(0, 2*np.pi, 100)\n",
    "tenth = array[9::10] #questo è da riguardare\n",
    "reverse = array[::-1]\n",
    "mask = (abs( np.sin(array) - np.cos(array)) < 0.1)\n",
    "masked = array[mask]\n",
    "\n",
    "print('array of 100 numbers between 0 and 2𝜋:\\n', array, '\\n')\n",
    "print('every tenth element:\\n', tenth, '\\n')\n",
    "print('reversed array:\\n', reverse, '\\n')\n",
    "print('masked array:\\n', masked)\n",
    "\n",
    "\n",
    "def circle(x, y, radius=0.25):\n",
    "    from matplotlib.patches import Circle\n",
    "    from matplotlib.patheffects import withStroke\n",
    "    circle = Circle((x, y), radius, clip_on=False, zorder=10, linewidth=1,\n",
    "                    edgecolor='black', facecolor=(0, 0, 0, .0125),\n",
    "                    path_effects=[withStroke(linewidth=5, foreground='w')])\n",
    "    ax.add_artist(circle)\n",
    "\n",
    "\n",
    "\n",
    "fig, ax = plt.subplots(figsize=(10, 6))\n",
    "\n",
    "plt.xlabel('$x$')\n",
    "plt.ylabel('$y$')\n",
    "plt.title('sin and cos')\n",
    "\n",
    "ax.plot(array, np.sin(array), label='sinx')\n",
    "ax.plot(array, np.cos(array), label ='cosx')\n",
    "ax.legend(loc='lower left')\n",
    "\n",
    "circle(0.79, np.sin(0.79))\n",
    "circle(3.92, np.sin(3.92))"
   ]
  },
  {
   "cell_type": "markdown",
   "metadata": {},
   "source": [
    "5\\. **Matrices**\n",
    "\n",
    "Create a matrix that shows the 10 by 10 multiplication table.\n",
    "\n",
    " * Find the trace of the matrix\n",
    " * Extract the anti-diagonal matrix (this should be ```array([10, 18, 24, 28, 30, 30, 28, 24, 18, 10])```)\n",
    " * Extract the diagonal offset by 1 upwards (this should be ```array([ 2,  6, 12, 20, 30, 42, 56, 72, 90])```)"
   ]
  },
  {
   "cell_type": "code",
   "execution_count": 48,
   "metadata": {},
   "outputs": [
    {
     "name": "stdout",
     "output_type": "stream",
     "text": [
      "starting matrix:\n",
      " [[  1   2   3   4   5   6   7   8   9  10]\n",
      " [  2   4   6   8  10  12  14  16  18  20]\n",
      " [  3   6   9  12  15  18  21  24  27  30]\n",
      " [  4   8  12  16  20  24  28  32  36  40]\n",
      " [  5  10  15  20  25  30  35  40  45  50]\n",
      " [  6  12  18  24  30  36  42  48  54  60]\n",
      " [  7  14  21  28  35  42  49  56  63  70]\n",
      " [  8  16  24  32  40  48  56  64  72  80]\n",
      " [  9  18  27  36  45  54  63  72  81  90]\n",
      " [ 10  20  30  40  50  60  70  80  90 100]] \n",
      "\n",
      "trace:  385 \n",
      "\n",
      "anti-diagonal matrix: \n",
      " [10 18 24 28 30 30 28 24 18 10] \n",
      "\n",
      "diagonal offset by 1 upwards: \n",
      " [ 2  6 12 20 30 42 56 72 90] \n",
      "\n"
     ]
    }
   ],
   "source": [
    "import numpy as np\n",
    "\n",
    "m = np.arange(1,11)*(np.arange(1,11)[:,np.newaxis])\n",
    "print('starting matrix:\\n', m, '\\n')\n",
    "\n",
    "trace=0\n",
    "for i in range(10):\n",
    "    trace += m[i,i]\n",
    "\n",
    "print('trace: ', trace, '\\n')\n",
    "#print(np.trace(m)) POSSO USARE QUESTO???\n",
    "\n",
    "anti_id=np.flip(np.identity(10, bool),0)\n",
    "print('anti-diagonal matrix: \\n', m[anti_id], '\\n')\n",
    "\n",
    "idd=np.identity(9)\n",
    "\n",
    "idd=np.vstack([idd, np.zeros(9)])\n",
    "idd=np.c_[np.zeros(10), idd] \n",
    "\n",
    "print('diagonal offset by 1 upwards: \\n', m[np.array(idd, dtype=bool)], '\\n') #FORSE ESISTE UN MODO PIù SEMPLICE"
   ]
  },
  {
   "cell_type": "markdown",
   "metadata": {},
   "source": [
    "6\\. **Broadcasting**\n",
    "\n",
    "Use broadcasting to create a grid of distances.\n",
    "\n",
    "Route 66 crosses the following cities in the US: Chicago, Springfield, Saint-Louis, Tulsa, Oklahoma City, Amarillo, Santa Fe, Albuquerque, Flagstaff, Los Angeles.\n",
    "\n",
    "The corresponding positions in miles are: 0, 198, 303, 736, 871, 1175, 1475, 1544, 1913, 2448\n",
    "\n",
    "  * Build a 2D grid of distances among each city along Route 66\n",
    "  * Convert the distances in km"
   ]
  },
  {
   "cell_type": "code",
   "execution_count": 55,
   "metadata": {},
   "outputs": [
    {
     "name": "stdout",
     "output_type": "stream",
     "text": [
      "2D grid of distances (miles):\n",
      " [[   0  298  303  736  871 1175 1475 1544 1913 2448]\n",
      " [ 298    0    5  438  573  877 1177 1246 1615 2150]\n",
      " [ 303    5    0  433  568  872 1172 1241 1610 2145]\n",
      " [ 736  438  433    0  135  439  739  808 1177 1712]\n",
      " [ 871  573  568  135    0  304  604  673 1042 1577]\n",
      " [1175  877  872  439  304    0  300  369  738 1273]\n",
      " [1475 1177 1172  739  604  300    0   69  438  973]\n",
      " [1544 1246 1241  808  673  369   69    0  369  904]\n",
      " [1913 1615 1610 1177 1042  738  438  369    0  535]\n",
      " [2448 2150 2145 1712 1577 1273  973  904  535    0]]\n",
      "\n",
      "2D grid of distances (km):\n",
      " [[   0.        479.584512  487.631232 1184.477184 1401.738624 1890.9792\n",
      "  2373.7824   2484.827136 3078.675072 3939.674112]\n",
      " [ 479.584512    0.          8.04672   704.892672  922.154112 1411.394688\n",
      "  1894.197888 2005.242624 2599.09056  3460.0896  ]\n",
      " [ 487.631232    8.04672     0.        696.845952  914.107392 1403.347968\n",
      "  1886.151168 1997.195904 2591.04384  3452.04288 ]\n",
      " [1184.477184  704.892672  696.845952    0.        217.26144   706.502016\n",
      "  1189.305216 1300.349952 1894.197888 2755.196928]\n",
      " [1401.738624  922.154112  914.107392  217.26144     0.        489.240576\n",
      "   972.043776 1083.088512 1676.936448 2537.935488]\n",
      " [1890.9792   1411.394688 1403.347968  706.502016  489.240576    0.\n",
      "   482.8032    593.847936 1187.695872 2048.694912]\n",
      " [2373.7824   1894.197888 1886.151168 1189.305216  972.043776  482.8032\n",
      "     0.        111.044736  704.892672 1565.891712]\n",
      " [2484.827136 2005.242624 1997.195904 1300.349952 1083.088512  593.847936\n",
      "   111.044736    0.        593.847936 1454.846976]\n",
      " [3078.675072 2599.09056  2591.04384  1894.197888 1676.936448 1187.695872\n",
      "   704.892672  593.847936    0.        860.99904 ]\n",
      " [3939.674112 3460.0896   3452.04288  2755.196928 2537.935488 2048.694912\n",
      "  1565.891712 1454.846976  860.99904     0.      ]]\n"
     ]
    }
   ],
   "source": [
    "import numpy as np\n",
    "\n",
    "route66=np.array([0,298,303,736,871,1175,1475,1544,1913,2448])\n",
    "\n",
    "distance = abs(route66 - route66[:,np.newaxis])\n",
    "print('2D grid of distances (miles):\\n', distance)\n",
    "\n",
    "distance_km=distance*1.609344\n",
    "print('\\n2D grid of distances (km):\\n', distance_km)\n",
    "\n",
    "#QUESTO DA RIGUARDARE"
   ]
  },
  {
   "cell_type": "markdown",
   "metadata": {},
   "source": [
    "7\\. **Prime numbers sieve**\n",
    "\n",
    "Compute the prime numbers in the 0-N (start with N=99) range with a sieve (mask).\n",
    "\n",
    "  * Constract a shape (N,) boolean array, which is the mask\n",
    "  * Identify the multiples of each number starting from 2 and set accordingly the corresponding mask element\n",
    "  * Apply the mask to obtain an array of ordered prime numbers\n",
    "  * Check the performances (with `timeit`); how does it scale with N?\n",
    "  * Implement the optimization suggested in the [sieve of Eratosthenes](https://en.wikipedia.org/wiki/Sieve_of_Eratosthenes)"
   ]
  },
  {
   "cell_type": "code",
   "execution_count": 57,
   "metadata": {},
   "outputs": [],
   "source": [
    "import numpy as np\n",
    "import timeit\n",
    "\n",
    "N=100\n",
    "\n",
    "num=np.arange(N)\n",
    "num2=np.arange(2,N)\n",
    "mask=np.ones(N)"
   ]
  },
  {
   "cell_type": "code",
   "execution_count": 67,
   "metadata": {},
   "outputs": [
    {
     "name": "stdout",
     "output_type": "stream",
     "text": [
      "430 µs ± 250 µs per loop (mean ± std. dev. of 7 runs, 1 loop each)\n"
     ]
    }
   ],
   "source": [
    "%%timeit -n 1\n",
    "N=100\n",
    "num=np.arange(N)\n",
    "mask=np.ones(N)\n",
    "for i in range (N):\n",
    "    for j in range(2,i):\n",
    "        if i % j == 0:\n",
    "            mask[i]=0\n",
    "mask_bool = np.array(mask, bool)          \n",
    "\n",
    "\n",
    "#scales as N^2"
   ]
  },
  {
   "cell_type": "code",
   "execution_count": 72,
   "metadata": {},
   "outputs": [
    {
     "name": "stdout",
     "output_type": "stream",
     "text": [
      "First N prime numbers, using for cycles:\n",
      " [ 2  3  5  7 11 13 17 19 23 29 31 37 41 43 47 53 59 61 67 71 73 79 83 89\n",
      " 97]\n"
     ]
    }
   ],
   "source": [
    "print('First N prime numbers, using for cycles:\\n', num[mask_bool][2:])\n"
   ]
  },
  {
   "cell_type": "code",
   "execution_count": 73,
   "metadata": {},
   "outputs": [
    {
     "name": "stdout",
     "output_type": "stream",
     "text": [
      "25.1 µs ± 11.1 µs per loop (mean ± std. dev. of 7 runs, 1 loop each)\n"
     ]
    }
   ],
   "source": [
    "%%timeit -n 1\n",
    "mask2=np.ones(N, bool)\n",
    "i=2\n",
    "\n",
    "while i*i <= N:\n",
    "    if mask2[i] == True:\n",
    "        for j in range(i*i, N, i):\n",
    "            mask2[j] = False\n",
    "    i += 1\n",
    "    \n"
   ]
  },
  {
   "cell_type": "code",
   "execution_count": 71,
   "metadata": {},
   "outputs": [
    {
     "name": "stdout",
     "output_type": "stream",
     "text": [
      "First N prime numbers, using the sieve of Eratosthenes:\n",
      " [ 2  3  5  7 11 13 17 19 23 29 31 37 41 43 47 53 59 61 67 71 73 79 83 89\n",
      " 97]\n"
     ]
    }
   ],
   "source": [
    "print('First N prime numbers, using the sieve of Eratosthenes:\\n', num[mask2][2:])\n"
   ]
  },
  {
   "cell_type": "markdown",
   "metadata": {},
   "source": [
    "8\\. **Diffusion using random walk**\n",
    "\n",
    "Consider a simple random walk process: at each step in time, a walker jumps right or left (+1 or -1) with equal probability. The goal is to find the typical distance from the origin of many random walkers after a given amount of time.\n",
    "\n",
    "*Hint*: create a 2D array where each row represents a walker, and each column represents a time step.\n",
    "\n",
    "  * Take 1000 walkers and let them walk for 200 steps\n",
    "  * Use `randint` to create a 2D array of size $walkers \\times steps$ with values -1 or 1\n",
    "  * Calculate the walking distances for each walker (e.g. by summing the elements in each row)\n",
    "  * Take the square of the previously-obtained array (element-wise)\n",
    "  * Compute the mean of the squared distances at each step (i.e. the mean along the columns)\n",
    "  * **Optional**: plot the average distances ($\\sqrt(distance^2)$) as a function of time (step)"
   ]
  },
  {
   "cell_type": "code",
   "execution_count": 80,
   "metadata": {
    "scrolled": false
   },
   "outputs": [
    {
     "data": {
      "text/plain": [
       "Text(0, 0.5, 'average distance')"
      ]
     },
     "execution_count": 80,
     "metadata": {},
     "output_type": "execute_result"
    },
    {
     "data": {
      "image/png": "[encoded data removed]",
      "text/plain": [
       "<Figure size 640x480 with 1 Axes>"
      ]
     },
     "metadata": {},
     "output_type": "display_data"
    }
   ],
   "source": [
    "import numpy as np\n",
    "import numpy.random as npr\n",
    "import matplotlib.pyplot as plt\n",
    "\n",
    "walkers=1000\n",
    "steps=200\n",
    "\n",
    "W = npr.randint(0, 2, size=(walkers, steps))\n",
    "W[W == 0] = -1 #Walkers grid\n",
    "#print('Walkers grid:\\n', W)\n",
    "\n",
    "d = W.sum(axis=1) #Walking distance\n",
    "#print('\\nWalking distance:\\n', d*d)\n",
    "\n",
    "\n",
    "#creating an array containing the mean of \n",
    "#the squared distances at each step\n",
    "a=[]\n",
    "for i in range(1,steps+1):\n",
    "    v=W[:,:i].sum(axis=1)\n",
    "    a.append(np.mean(v*v))\n",
    "    \n",
    "\n",
    "fig, ax0 = plt.subplots()\n",
    "plt.plot(range(steps), np.sqrt(a))\n",
    "ax0.set_xlabel(\"step\")\n",
    "ax0.set_ylabel(\"average distance\")\n",
    "\n"
   ]
  },
  {
   "cell_type": "code",
   "execution_count": null,
   "metadata": {},
   "outputs": [],
   "source": []
  }
 ],
 "metadata": {
  "kernelspec": {
   "display_name": "Python 3",
   "language": "python",
   "name": "python3"
  },
  "language_info": {
   "codemirror_mode": {
    "name": "ipython",
    "version": 3
   },
   "file_extension": ".py",
   "mimetype": "text/x-python",
   "name": "python",
   "nbconvert_exporter": "python",
   "pygments_lexer": "ipython3",
   "version": "3.8.10"
  }
 },
 "nbformat": 4,
 "nbformat_minor": 2
}
