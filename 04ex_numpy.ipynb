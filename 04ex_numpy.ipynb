{
 "cells": [
  {
   "cell_type": "markdown",
   "metadata": {},
   "source": [
    "1\\. **Reductions**\n",
    "\n",
    "Find the total mean, and the mean for each row and column of the following matrix:\n",
    "\n",
    "```python\n",
    "m = np.arange(12).reshape((3,4))\n",
    "```"
   ]
  },
  {
   "cell_type": "code",
   "execution_count": 2,
   "metadata": {},
   "outputs": [
    {
     "name": "stdout",
     "output_type": "stream",
     "text": [
      "[[ 0  1  2  3]\n",
      " [ 4  5  6  7]\n",
      " [ 8  9 10 11]] \n",
      "\n",
      "mean along 1 ° column: 4.00\n",
      "mean along 2 ° column: 5.00\n",
      "mean along 3 ° column: 6.00\n",
      "mean along 4 ° column: 7.00\n",
      "\n",
      "\n",
      "mean along 1 ° row: 1.50\n",
      "mean along 2 ° row: 5.50\n",
      "mean along 3 ° row: 9.50\n",
      "\n",
      "The average of all elements is  5.5\n"
     ]
    }
   ],
   "source": [
    "import numpy as np\n",
    "\n",
    "m = np.arange(12).reshape((3,4))\n",
    "f=m.flatten()\n",
    "print(m, '\\n')\n",
    "#print(f, '\\n')\n",
    "\n",
    "for i in range(m.shape[1]):\n",
    "    print(\"mean along %d ° column: %.2f\" %(i+1, m[:,i].mean()))\n",
    "print('\\n')\n",
    "for i in range(m.shape[0]):\n",
    "    print(\"mean along %d ° row: %.2f\" %(i+1, m[i].mean()))\n",
    "print(\"\\nThe average of all elements is \", f.mean())"
   ]
  },
  {
   "cell_type": "markdown",
   "metadata": {},
   "source": [
    "2\\. **Outer product**\n",
    "\n",
    "Find the outer product of the following vectors:\n",
    "\n",
    "```python\n",
    "u = np.array([1, 3, 5, 7])\n",
    "v = np.array([2, 4, 6, 8])\n",
    "```\n",
    "\n",
    "Use different methods to do this:\n",
    "\n",
    "   1. Using the function `outer` in numpy\n",
    "   2. Using a nested `for` loop or a list comprehension\n",
    "   3. Using numpy broadcasting operations"
   ]
  },
  {
   "cell_type": "code",
   "execution_count": 3,
   "metadata": {},
   "outputs": [
    {
     "name": "stdout",
     "output_type": "stream",
     "text": [
      "Matrix obtained using .outer()\n",
      "[[ 2  4  6  8]\n",
      " [ 6 12 18 24]\n",
      " [10 20 30 40]\n",
      " [14 28 42 56]]\n",
      "\n",
      "Matrix obtained using for cycle\n",
      "[[ 2.  4.  6.  8.]\n",
      " [ 6. 12. 18. 24.]\n",
      " [10. 20. 30. 40.]\n",
      " [14. 28. 42. 56.]]\n",
      "\n",
      "Matrix obtained using list comprehension\n",
      "[[ 2  4  6  8]\n",
      " [ 6 12 18 24]\n",
      " [10 20 30 40]\n",
      " [14 28 42 56]]\n",
      "\n",
      "Matrix obtained using broadcasting operations\n",
      "[[ 2  4  6  8]\n",
      " [ 6 12 18 24]\n",
      " [10 20 30 40]\n",
      " [14 28 42 56]]\n"
     ]
    }
   ],
   "source": [
    "import numpy as np\n",
    "\n",
    "u = np.array([1, 3, 5, 7])\n",
    "v = np.array([2, 4, 6, 8])\n",
    "\n",
    "print(\"Matrix obtained using .outer()\")\n",
    "print(np.outer(u,v))\n",
    "\n",
    "m=np.eye(4)\n",
    "for i in range (4):\n",
    "    for j in range(4):\n",
    "        m[i,j]=u[i]*v[j]\n",
    "        \n",
    "print(\"\\nMatrix obtained using for cycle\")\n",
    "print(m)\n",
    "\n",
    "matrice=np.array([u[i]*v[j] for i in range(4) for j in range(4)]).reshape(4,4)\n",
    "print(\"\\nMatrix obtained using list comprehension\")\n",
    "print(matrice)\n",
    "print(\"\\nMatrix obtained using broadcasting operations\")\n",
    "print( u[:,np.newaxis]*v )"
   ]
  },
  {
   "cell_type": "markdown",
   "metadata": {},
   "source": [
    "3\\. **Matrix masking**\n",
    "\n",
    "Create a 10 by 6 matrix of float random numbers, distributed between 0 and 3 according to a flat distribution.\n",
    "\n",
    "After creating the matrix, set all entries $< 0.3$ to zero using a mask."
   ]
  },
  {
   "cell_type": "code",
   "execution_count": 4,
   "metadata": {},
   "outputs": [
    {
     "name": "stdout",
     "output_type": "stream",
     "text": [
      "[[2.44595647 0.        ]\n",
      " [2.74325449 1.12252855]\n",
      " [0.45598227 0.        ]\n",
      " [1.83344369 2.67271933]\n",
      " [2.75959193 1.55099094]\n",
      " [2.91507711 1.67284016]\n",
      " [2.18783556 0.        ]\n",
      " [2.72513051 0.        ]\n",
      " [1.12766467 1.25993351]\n",
      " [1.28189346 1.84012866]]\n"
     ]
    }
   ],
   "source": [
    "import numpy as np\n",
    "\n",
    "m= np.random.rand(10,2)*3\n",
    "mask=(m < 0.3)\n",
    "m[mask]=0\n",
    "print(m)"
   ]
  },
  {
   "cell_type": "markdown",
   "metadata": {},
   "source": [
    "4\\. **Trigonometric functions**\n",
    "\n",
    "Use `np.linspace` to create an array of 100 numbers between $0$ and $2\\pi$ (inclusive).\n",
    "\n",
    "  * Extract every 10th element using the slice notation\n",
    "  * Reverse the array using the slice notation\n",
    "  * Extract elements where the absolute difference between the `sin` and `cos` functions evaluated for that element is $< 0.1$\n",
    "  * **Optional**: make a plot showing the sin and cos functions and indicate where they are close"
   ]
  },
  {
   "cell_type": "code",
   "execution_count": 5,
   "metadata": {},
   "outputs": [
    {
     "name": "stdout",
     "output_type": "stream",
     "text": [
      "[0.         0.06346652 0.12693304 0.19039955 0.25386607 0.31733259\n",
      " 0.38079911 0.44426563 0.50773215 0.57119866 0.63466518 0.6981317\n",
      " 0.76159822 0.82506474 0.88853126 0.95199777 1.01546429 1.07893081\n",
      " 1.14239733 1.20586385 1.26933037 1.33279688 1.3962634  1.45972992\n",
      " 1.52319644 1.58666296 1.65012947 1.71359599 1.77706251 1.84052903\n",
      " 1.90399555 1.96746207 2.03092858 2.0943951  2.15786162 2.22132814\n",
      " 2.28479466 2.34826118 2.41172769 2.47519421 2.53866073 2.60212725\n",
      " 2.66559377 2.72906028 2.7925268  2.85599332 2.91945984 2.98292636\n",
      " 3.04639288 3.10985939 3.17332591 3.23679243 3.30025895 3.36372547\n",
      " 3.42719199 3.4906585  3.55412502 3.61759154 3.68105806 3.74452458\n",
      " 3.8079911  3.87145761 3.93492413 3.99839065 4.06185717 4.12532369\n",
      " 4.1887902  4.25225672 4.31572324 4.37918976 4.44265628 4.5061228\n",
      " 4.56958931 4.63305583 4.69652235 4.75998887 4.82345539 4.88692191\n",
      " 4.95038842 5.01385494 5.07732146 5.14078798 5.2042545  5.26772102\n",
      " 5.33118753 5.39465405 5.45812057 5.52158709 5.58505361 5.64852012\n",
      " 5.71198664 5.77545316 5.83891968 5.9023862  5.96585272 6.02931923\n",
      " 6.09278575 6.15625227 6.21971879 6.28318531] \n",
      "\n",
      "[0.         0.63466518 1.26933037 1.90399555 2.53866073 3.17332591\n",
      " 3.8079911  4.44265628 5.07732146 5.71198664] \n",
      "\n",
      "[5.71198664 5.07732146 4.44265628 3.8079911  3.17332591 2.53866073\n",
      " 1.90399555 1.26933037 0.63466518 0.        ] \n",
      "\n",
      "[0.76159822 0.82506474 3.87145761 3.93492413]\n"
     ]
    },
    {
     "data": {
      "text/plain": [
       "[<matplotlib.lines.Line2D at 0x1a8abf0b730>]"
      ]
     },
     "execution_count": 5,
     "metadata": {},
     "output_type": "execute_result"
    },
    {
     "data": {
      "image/png": "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\n",
      "text/plain": [
       "<Figure size 640x480 with 1 Axes>"
      ]
     },
     "metadata": {},
     "output_type": "display_data"
    }
   ],
   "source": [
    "import numpy as np\n",
    "import matplotlib.pyplot as plt\n",
    "\n",
    "array = np.linspace(0, 2*np.pi, 100)\n",
    "\n",
    "sliced = array[::10] #questo è da riguardare\n",
    "reverse = sliced[::-1]\n",
    "mask = (abs( np.sin(array) - np.cos(array)) < 0.1)\n",
    "filtered = array[mask]\n",
    "\n",
    "print(array, '\\n')\n",
    "print(sliced, '\\n')\n",
    "print(reverse, '\\n')\n",
    "print(filtered)\n",
    "\n",
    "plt.plot(array, np.sin(array))\n",
    "plt.plot(array, np.cos(array))"
   ]
  },
  {
   "cell_type": "markdown",
   "metadata": {},
   "source": [
    "5\\. **Matrices**\n",
    "\n",
    "Create a matrix that shows the 10 by 10 multiplication table.\n",
    "\n",
    " * Find the trace of the matrix\n",
    " * Extract the anti-diagonal matrix (this should be ```array([10, 18, 24, 28, 30, 30, 28, 24, 18, 10])```)\n",
    " * Extract the diagonal offset by 1 upwards (this should be ```array([ 2,  6, 12, 20, 30, 42, 56, 72, 90])```)"
   ]
  },
  {
   "cell_type": "code",
   "execution_count": 6,
   "metadata": {},
   "outputs": [
    {
     "name": "stdout",
     "output_type": "stream",
     "text": [
      "[[  1   2   3   4   5   6   7   8   9  10]\n",
      " [  2   4   6   8  10  12  14  16  18  20]\n",
      " [  3   6   9  12  15  18  21  24  27  30]\n",
      " [  4   8  12  16  20  24  28  32  36  40]\n",
      " [  5  10  15  20  25  30  35  40  45  50]\n",
      " [  6  12  18  24  30  36  42  48  54  60]\n",
      " [  7  14  21  28  35  42  49  56  63  70]\n",
      " [  8  16  24  32  40  48  56  64  72  80]\n",
      " [  9  18  27  36  45  54  63  72  81  90]\n",
      " [ 10  20  30  40  50  60  70  80  90 100]] \n",
      "\n",
      "trace:  385 \n",
      "\n",
      "[10 18 24 28 30 30 28 24 18 10] \n",
      "\n",
      "[ 2  6 12 20 30 42 56 72 90] \n",
      "\n"
     ]
    }
   ],
   "source": [
    "import numpy as np\n",
    "\n",
    "m = np.arange(1,11)*(np.arange(1,11)[:,np.newaxis])\n",
    "print(m, '\\n')\n",
    "\n",
    "trace=0\n",
    "for i in range(10):\n",
    "    trace += m[i,i]\n",
    "\n",
    "print('trace: ', trace, '\\n')\n",
    "#print(np.trace(m)) POSSO USARE QUESTO???\n",
    "\n",
    "anti_id=np.flip(np.identity(10, bool),0)\n",
    "print(m[anti_id], '\\n')\n",
    "\n",
    "idd=np.identity(9)\n",
    "\n",
    "idd=np.vstack([idd, np.zeros(9)])\n",
    "idd=np.c_[np.zeros(10), idd] \n",
    "\n",
    "print(m[np.array(idd, dtype=bool)], '\\n') #FORSE ESISTE UN MODO PIù SEMPLICE"
   ]
  },
  {
   "cell_type": "markdown",
   "metadata": {},
   "source": [
    "6\\. **Broadcasting**\n",
    "\n",
    "Use broadcasting to create a grid of distances.\n",
    "\n",
    "Route 66 crosses the following cities in the US: Chicago, Springfield, Saint-Louis, Tulsa, Oklahoma City, Amarillo, Santa Fe, Albuquerque, Flagstaff, Los Angeles.\n",
    "\n",
    "The corresponding positions in miles are: 0, 198, 303, 736, 871, 1175, 1475, 1544, 1913, 2448\n",
    "\n",
    "  * Build a 2D grid of distances among each city along Route 66\n",
    "  * Convert the distances in km"
   ]
  },
  {
   "cell_type": "code",
   "execution_count": 7,
   "metadata": {},
   "outputs": [
    {
     "name": "stdout",
     "output_type": "stream",
     "text": [
      "[[    0.           185.16861529   188.27547125   457.32919749\n",
      "    541.21430844   730.11115088   916.52250855   959.39712081\n",
      "   1188.68309075  1521.1166786 ]\n",
      " [ -185.16861529     0.             3.10685596   272.1605822\n",
      "    356.04569315   544.94253559   731.35389326   774.22850553\n",
      "   1003.51447546  1335.94806331]\n",
      " [ -188.27547125    -3.10685596     0.           269.05372624\n",
      "    352.93883719   541.83567963   728.2470373    771.12164957\n",
      "   1000.4076195   1332.84120735]\n",
      " [ -457.32919749  -272.1605822   -269.05372624     0.\n",
      "     83.88511095   272.78195339   459.19331106   502.06792333\n",
      "    731.35389326  1063.78748111]\n",
      " [ -541.21430844  -356.04569315  -352.93883719   -83.88511095\n",
      "      0.           188.89684244   375.30820011   418.18281238\n",
      "    647.46878231   979.90237016]\n",
      " [ -730.11115088  -544.94253559  -541.83567963  -272.78195339\n",
      "   -188.89684244     0.           186.41135767   229.28596994\n",
      "    458.57193987   791.00552772]\n",
      " [ -916.52250855  -731.35389326  -728.2470373   -459.19331106\n",
      "   -375.30820011  -186.41135767     0.            42.87461226\n",
      "    272.1605822    604.59417005]\n",
      " [ -959.39712081  -774.22850553  -771.12164957  -502.06792333\n",
      "   -418.18281238  -229.28596994   -42.87461226     0.\n",
      "    229.28596994   561.71955778]\n",
      " [-1188.68309075 -1003.51447546 -1000.4076195   -731.35389326\n",
      "   -647.46878231  -458.57193987  -272.1605822   -229.28596994\n",
      "      0.           332.43358785]\n",
      " [-1521.1166786  -1335.94806331 -1332.84120735 -1063.78748111\n",
      "   -979.90237016  -791.00552772  -604.59417005  -561.71955778\n",
      "   -332.43358785     0.        ]]\n"
     ]
    }
   ],
   "source": [
    "import numpy as np\n",
    "\n",
    "main=np.array([0,298,303,736,871,1175,1475,1544,1913,2448])\n",
    "\n",
    "final=main-main[:,np.newaxis]\n",
    "final_km=final/1.609344\n",
    "print(final_km)\n",
    "\n",
    "#QUESTO DA RIGUARDARE"
   ]
  },
  {
   "cell_type": "markdown",
   "metadata": {},
   "source": [
    "7\\. **Prime numbers sieve**\n",
    "\n",
    "Compute the prime numbers in the 0-N (start with N=99) range with a sieve (mask).\n",
    "\n",
    "  * Constract a shape (N,) boolean array, which is the mask\n",
    "  * Identify the multiples of each number starting from 2 and set accordingly the corresponding mask element\n",
    "  * Apply the mask to obtain an array of ordered prime numbers\n",
    "  * Check the performances (with `timeit`); how does it scale with N?\n",
    "  * Implement the optimization suggested in the [sieve of Eratosthenes](https://en.wikipedia.org/wiki/Sieve_of_Eratosthenes)"
   ]
  },
  {
   "cell_type": "code",
   "execution_count": 2,
   "metadata": {},
   "outputs": [],
   "source": [
    "import numpy as np\n",
    "import timeit\n",
    "\n",
    "N=100\n",
    "\n",
    "num=np.arange(N)\n",
    "num2=np.arange(2,N)\n",
    "mask=np.ones(N)"
   ]
  },
  {
   "cell_type": "code",
   "execution_count": 3,
   "metadata": {},
   "outputs": [
    {
     "name": "stdout",
     "output_type": "stream",
     "text": [
      "298 µs ± 94.2 µs per loop (mean ± std. dev. of 7 runs, 1 loop each)\n"
     ]
    }
   ],
   "source": [
    "%%timeit -n 1\n",
    "N=100\n",
    "num=np.arange(N)\n",
    "mask=np.ones(N)\n",
    "for i in range (N):\n",
    "    for j in range(2,i):\n",
    "        if i % j == 0:\n",
    "            mask[i]=0\n",
    "          \n",
    "mask_bool = np.array(mask, bool)\n",
    "\n",
    "\n",
    "#print('First N prime numbers, using for cycles')\n",
    "#print(list(num[mask_bool][2:]))\n",
    "\n",
    "#scala come N^2"
   ]
  },
  {
   "cell_type": "code",
   "execution_count": 6,
   "metadata": {},
   "outputs": [
    {
     "name": "stdout",
     "output_type": "stream",
     "text": [
      "8.91 ms ± 440 µs per loop (mean ± std. dev. of 7 runs, 1 loop each)\n"
     ]
    }
   ],
   "source": [
    "%%timeit -n 1\n",
    "#QUESTO SAREBBE UN ERATOSTENE inefficiente!!!\n",
    "num2=np.arange(2,N)\n",
    "for i in range(2,N-1):\n",
    "    num2=list(filter(lambda x: x not in np.arange(i*i,N,i), num2))\n",
    "    \n",
    "#print('\\nFirst N prime numbers, using sieve of Eratosthenes')\n",
    "#print(num2)"
   ]
  },
  {
   "cell_type": "code",
   "execution_count": 7,
   "metadata": {},
   "outputs": [
    {
     "name": "stdout",
     "output_type": "stream",
     "text": [
      "24.2 µs ± 10.8 µs per loop (mean ± std. dev. of 7 runs, 1 loop each)\n"
     ]
    }
   ],
   "source": [
    "%%timeit -n 1\n",
    "#ERATOSTENE efficiente\n",
    "mask2=np.ones(N, bool)\n",
    "i=2\n",
    "\n",
    "while i*i <= N:\n",
    "    if mask2[i] == True:\n",
    "        for j in range(i*i, N, i):\n",
    "            mask2[j] = False\n",
    "    i += 1\n",
    "    \n",
    "#print(num[mask2][2:])"
   ]
  },
  {
   "cell_type": "markdown",
   "metadata": {},
   "source": [
    "8\\. **Diffusion using random walk**\n",
    "\n",
    "Consider a simple random walk process: at each step in time, a walker jumps right or left (+1 or -1) with equal probability. The goal is to find the typical distance from the origin of many random walkers after a given amount of time.\n",
    "\n",
    "*Hint*: create a 2D array where each row represents a walker, and each column represents a time step.\n",
    "\n",
    "  * Take 1000 walkers and let them walk for 200 steps\n",
    "  * Use `randint` to create a 2D array of size $walkers \\times steps$ with values -1 or 1\n",
    "  * Calculate the walking distances for each walker (e.g. by summing the elements in each row)\n",
    "  * Take the square of the previously-obtained array (element-wise)\n",
    "  * Compute the mean of the squared distances at each step (i.e. the mean along the columns)\n",
    "  * **Optional**: plot the average distances ($\\sqrt(distance^2)$) as a function of time (step)"
   ]
  },
  {
   "cell_type": "code",
   "execution_count": 130,
   "metadata": {},
   "outputs": [
    {
     "data": {
      "text/plain": [
       "[<matplotlib.lines.Line2D at 0x1f7b71b1430>]"
      ]
     },
     "execution_count": 130,
     "metadata": {},
     "output_type": "execute_result"
    },
    {
     "data": {
      "image/png": "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\n",
      "text/plain": [
       "<Figure size 640x480 with 1 Axes>"
      ]
     },
     "metadata": {},
     "output_type": "display_data"
    }
   ],
   "source": [
    "import numpy as np\n",
    "import numpy.random as npr\n",
    "import matplotlib.pyplot as plt\n",
    "\n",
    "walkers=1000\n",
    "steps=200\n",
    "\n",
    "W = npr.randint(0, 2, size=(walkers, steps))\n",
    "W[W == 0] = -1\n",
    "d = W.sum(axis=1)#[:,np.newaxis] #walking distance\n",
    "\n",
    "a=[]\n",
    "for i in range(1,steps+1):\n",
    "    v=W[:,:i].sum(axis=1)\n",
    "    a.append(np.mean(v*v))\n",
    "    \n",
    "#print(W, '\\n')\n",
    "#print(d*d, '\\n')\n",
    "#print(a)\n",
    "\n",
    "fig, ax0 = plt.subplots()\n",
    "plt.plot(range(steps), np.sqrt(a))\n",
    "\n",
    "#QUEST'ULTIMO è DA RIFARE MA ORA NON HO TEMPO"
   ]
  },
  {
   "cell_type": "code",
   "execution_count": null,
   "metadata": {},
   "outputs": [],
   "source": []
  }
 ],
 "metadata": {
  "kernelspec": {
   "display_name": "Python 3 (ipykernel)",
   "language": "python",
   "name": "python3"
  },
  "language_info": {
   "codemirror_mode": {
    "name": "ipython",
    "version": 3
   },
   "file_extension": ".py",
   "mimetype": "text/x-python",
   "name": "python",
   "nbconvert_exporter": "python",
   "pygments_lexer": "ipython3",
<<<<<<< Updated upstream
   "version": "3.8.10"
=======
   "version": "3.9.12"
>>>>>>> Stashed changes
  }
 },
 "nbformat": 4,
 "nbformat_minor": 2
}
